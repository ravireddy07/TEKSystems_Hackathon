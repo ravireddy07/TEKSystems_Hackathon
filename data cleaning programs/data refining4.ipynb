{
  "nbformat": 4,
  "nbformat_minor": 0,
  "metadata": {
    "kernelspec": {
      "display_name": "Python 3",
      "language": "python",
      "name": "python3"
    },
    "language_info": {
      "codemirror_mode": {
        "name": "ipython",
        "version": 3
      },
      "file_extension": ".py",
      "mimetype": "text/x-python",
      "name": "python",
      "nbconvert_exporter": "python",
      "pygments_lexer": "ipython3",
      "version": "3.6.5"
    },
    "colab": {
      "name": "4.ipynb",
      "version": "0.3.2",
      "provenance": []
    }
  },
  "cells": [
    {
      "cell_type": "code",
      "metadata": {
        "id": "l_VQdhNNkNo0",
        "colab_type": "code",
        "colab": {}
      },
      "source": [
        "import pandas as pd"
      ],
      "execution_count": 0,
      "outputs": []
    },
    {
      "cell_type": "code",
      "metadata": {
        "id": "uH_jNM_0kNo7",
        "colab_type": "code",
        "colab": {}
      },
      "source": [
        "df = pd.read_csv(\"./avg_wv_relation.csv\")"
      ],
      "execution_count": 0,
      "outputs": []
    },
    {
      "cell_type": "code",
      "metadata": {
        "id": "s-UiVIeikNpB",
        "colab_type": "code",
        "colab": {}
      },
      "source": [
        "df.columns = ['name', 'gender', 'character']"
      ],
      "execution_count": 0,
      "outputs": []
    },
    {
      "cell_type": "code",
      "metadata": {
        "id": "uI5qwn63kNpF",
        "colab_type": "code",
        "colab": {}
      },
      "source": [
        "df = df.iloc[:, 0:3]"
      ],
      "execution_count": 0,
      "outputs": []
    },
    {
      "cell_type": "code",
      "metadata": {
        "id": "Dac7_youkNpH",
        "colab_type": "code",
        "colab": {},
        "outputId": "298508e0-3559-40fa-ca9a-e85c5a3623c1"
      },
      "source": [
        "df.head()"
      ],
      "execution_count": 0,
      "outputs": [
        {
          "output_type": "execute_result",
          "data": {
            "text/html": [
              "<div>\n",
              "<style scoped>\n",
              "    .dataframe tbody tr th:only-of-type {\n",
              "        vertical-align: middle;\n",
              "    }\n",
              "\n",
              "    .dataframe tbody tr th {\n",
              "        vertical-align: top;\n",
              "    }\n",
              "\n",
              "    .dataframe thead th {\n",
              "        text-align: right;\n",
              "    }\n",
              "</style>\n",
              "<table border=\"1\" class=\"dataframe\">\n",
              "  <thead>\n",
              "    <tr style=\"text-align: right;\">\n",
              "      <th></th>\n",
              "      <th>name</th>\n",
              "      <th>gender</th>\n",
              "      <th>character</th>\n",
              "    </tr>\n",
              "  </thead>\n",
              "  <tbody>\n",
              "    <tr>\n",
              "      <th>0</th>\n",
              "      <td>Anil_Aan Milo Sajna</td>\n",
              "      <td>MALE</td>\n",
              "      <td>NaN</td>\n",
              "    </tr>\n",
              "    <tr>\n",
              "      <th>1</th>\n",
              "      <td>Savitri_Aan Milo Sajna</td>\n",
              "      <td>FEMALE</td>\n",
              "      <td>NaN</td>\n",
              "    </tr>\n",
              "    <tr>\n",
              "      <th>2</th>\n",
              "      <td>Deepali_Aan Milo Sajna</td>\n",
              "      <td>FEMALE</td>\n",
              "      <td>NaN</td>\n",
              "    </tr>\n",
              "    <tr>\n",
              "      <th>3</th>\n",
              "      <td>Shekar_Abhinetri</td>\n",
              "      <td>UNKNOWN</td>\n",
              "      <td>NaN</td>\n",
              "    </tr>\n",
              "    <tr>\n",
              "      <th>4</th>\n",
              "      <td>Anjana_Abhinetri</td>\n",
              "      <td>FEMALE</td>\n",
              "      <td>NaN</td>\n",
              "    </tr>\n",
              "  </tbody>\n",
              "</table>\n",
              "</div>"
            ],
            "text/plain": [
              "                     name   gender character\n",
              "0     Anil_Aan Milo Sajna     MALE       NaN\n",
              "1  Savitri_Aan Milo Sajna   FEMALE       NaN\n",
              "2  Deepali_Aan Milo Sajna   FEMALE       NaN\n",
              "3        Shekar_Abhinetri  UNKNOWN       NaN\n",
              "4        Anjana_Abhinetri   FEMALE       NaN"
            ]
          },
          "metadata": {
            "tags": []
          },
          "execution_count": 11
        }
      ]
    },
    {
      "cell_type": "code",
      "metadata": {
        "scrolled": true,
        "id": "b3CvTNGwkNpM",
        "colab_type": "code",
        "colab": {}
      },
      "source": [
        "df1 = df.dropna()"
      ],
      "execution_count": 0,
      "outputs": []
    },
    {
      "cell_type": "code",
      "metadata": {
        "id": "vPWMQ3-FkNpO",
        "colab_type": "code",
        "colab": {},
        "outputId": "2f7cf192-cecf-44de-8fb2-5d4c81a4fc54"
      },
      "source": [
        "df.info()"
      ],
      "execution_count": 0,
      "outputs": [
        {
          "output_type": "stream",
          "text": [
            "<class 'pandas.core.frame.DataFrame'>\n",
            "RangeIndex: 16933 entries, 0 to 16932\n",
            "Data columns (total 3 columns):\n",
            "name         16933 non-null object\n",
            "gender       16926 non-null object\n",
            "character    5443 non-null object\n",
            "dtypes: object(3)\n",
            "memory usage: 396.9+ KB\n"
          ],
          "name": "stdout"
        }
      ]
    },
    {
      "cell_type": "code",
      "metadata": {
        "id": "NZYBjQJQkNpQ",
        "colab_type": "code",
        "colab": {}
      },
      "source": [
        "df.columns= ['index', 'name', 'gender', 'character']"
      ],
      "execution_count": 0,
      "outputs": []
    },
    {
      "cell_type": "code",
      "metadata": {
        "id": "j9hy65NmkNpS",
        "colab_type": "code",
        "colab": {},
        "outputId": "831c1478-93a1-4c4d-ad6b-2434adbb7901"
      },
      "source": [
        "df.head()"
      ],
      "execution_count": 0,
      "outputs": [
        {
          "output_type": "execute_result",
          "data": {
            "text/html": [
              "<div>\n",
              "<style scoped>\n",
              "    .dataframe tbody tr th:only-of-type {\n",
              "        vertical-align: middle;\n",
              "    }\n",
              "\n",
              "    .dataframe tbody tr th {\n",
              "        vertical-align: top;\n",
              "    }\n",
              "\n",
              "    .dataframe thead th {\n",
              "        text-align: right;\n",
              "    }\n",
              "</style>\n",
              "<table border=\"1\" class=\"dataframe\">\n",
              "  <thead>\n",
              "    <tr style=\"text-align: right;\">\n",
              "      <th></th>\n",
              "      <th>index</th>\n",
              "      <th>name</th>\n",
              "      <th>gender</th>\n",
              "      <th>character</th>\n",
              "    </tr>\n",
              "  </thead>\n",
              "  <tbody>\n",
              "    <tr>\n",
              "      <th>0</th>\n",
              "      <td>6</td>\n",
              "      <td>father_Bachpan</td>\n",
              "      <td>MALE</td>\n",
              "      <td>unhappilly</td>\n",
              "    </tr>\n",
              "    <tr>\n",
              "      <th>1</th>\n",
              "      <td>7</td>\n",
              "      <td>Rahim_Bachpan</td>\n",
              "      <td>MALE</td>\n",
              "      <td>father, father, father</td>\n",
              "    </tr>\n",
              "    <tr>\n",
              "      <th>2</th>\n",
              "      <td>8</td>\n",
              "      <td>Kashi_Bachpan</td>\n",
              "      <td>UNKNOWN</td>\n",
              "      <td>innocent</td>\n",
              "    </tr>\n",
              "    <tr>\n",
              "      <th>3</th>\n",
              "      <td>11</td>\n",
              "      <td>actor_Bombay Talkie</td>\n",
              "      <td>MALE</td>\n",
              "      <td>famous</td>\n",
              "    </tr>\n",
              "    <tr>\n",
              "      <th>4</th>\n",
              "      <td>12</td>\n",
              "      <td>Seema_Chetna</td>\n",
              "      <td>FEMALE</td>\n",
              "      <td>unrecognizable</td>\n",
              "    </tr>\n",
              "  </tbody>\n",
              "</table>\n",
              "</div>"
            ],
            "text/plain": [
              "   index                 name   gender               character\n",
              "0      6       father_Bachpan     MALE              unhappilly\n",
              "1      7        Rahim_Bachpan     MALE  father, father, father\n",
              "2      8        Kashi_Bachpan  UNKNOWN                innocent\n",
              "3     11  actor_Bombay Talkie     MALE                  famous\n",
              "4     12         Seema_Chetna   FEMALE          unrecognizable"
            ]
          },
          "metadata": {
            "tags": []
          },
          "execution_count": 26
        }
      ]
    },
    {
      "cell_type": "code",
      "metadata": {
        "id": "oWUHzR9UkNpU",
        "colab_type": "code",
        "colab": {}
      },
      "source": [
        "df = df.drop(['index'], axis=1)\n",
        "df.to_csv(path_or_buf='./processed/first.csv', index=True)"
      ],
      "execution_count": 0,
      "outputs": []
    },
    {
      "cell_type": "code",
      "metadata": {
        "id": "AVwTKCjckNpV",
        "colab_type": "code",
        "colab": {},
        "outputId": "176d90df-dc5e-47f8-dbf8-e1c3f8d6d670"
      },
      "source": [
        "df.head()"
      ],
      "execution_count": 0,
      "outputs": [
        {
          "output_type": "execute_result",
          "data": {
            "text/html": [
              "<div>\n",
              "<style scoped>\n",
              "    .dataframe tbody tr th:only-of-type {\n",
              "        vertical-align: middle;\n",
              "    }\n",
              "\n",
              "    .dataframe tbody tr th {\n",
              "        vertical-align: top;\n",
              "    }\n",
              "\n",
              "    .dataframe thead th {\n",
              "        text-align: right;\n",
              "    }\n",
              "</style>\n",
              "<table border=\"1\" class=\"dataframe\">\n",
              "  <thead>\n",
              "    <tr style=\"text-align: right;\">\n",
              "      <th></th>\n",
              "      <th>name</th>\n",
              "      <th>gender</th>\n",
              "      <th>character</th>\n",
              "    </tr>\n",
              "  </thead>\n",
              "  <tbody>\n",
              "    <tr>\n",
              "      <th>0</th>\n",
              "      <td>father_Bachpan</td>\n",
              "      <td>MALE</td>\n",
              "      <td>unhappilly</td>\n",
              "    </tr>\n",
              "    <tr>\n",
              "      <th>1</th>\n",
              "      <td>Rahim_Bachpan</td>\n",
              "      <td>MALE</td>\n",
              "      <td>father, father, father</td>\n",
              "    </tr>\n",
              "    <tr>\n",
              "      <th>2</th>\n",
              "      <td>Kashi_Bachpan</td>\n",
              "      <td>UNKNOWN</td>\n",
              "      <td>innocent</td>\n",
              "    </tr>\n",
              "    <tr>\n",
              "      <th>3</th>\n",
              "      <td>actor_Bombay Talkie</td>\n",
              "      <td>MALE</td>\n",
              "      <td>famous</td>\n",
              "    </tr>\n",
              "    <tr>\n",
              "      <th>4</th>\n",
              "      <td>Seema_Chetna</td>\n",
              "      <td>FEMALE</td>\n",
              "      <td>unrecognizable</td>\n",
              "    </tr>\n",
              "  </tbody>\n",
              "</table>\n",
              "</div>"
            ],
            "text/plain": [
              "                  name   gender               character\n",
              "0       father_Bachpan     MALE              unhappilly\n",
              "1        Rahim_Bachpan     MALE  father, father, father\n",
              "2        Kashi_Bachpan  UNKNOWN                innocent\n",
              "3  actor_Bombay Talkie     MALE                  famous\n",
              "4         Seema_Chetna   FEMALE          unrecognizable"
            ]
          },
          "metadata": {
            "tags": []
          },
          "execution_count": 32
        }
      ]
    },
    {
      "cell_type": "code",
      "metadata": {
        "id": "s5ln1CtgkNpX",
        "colab_type": "code",
        "colab": {}
      },
      "source": [
        "df1 = pd.read_csv(\"./processed/first.csv\")\n",
        "df2 = pd.read_csv(\"./male_mentions_centrality.csv\")"
      ],
      "execution_count": 0,
      "outputs": []
    },
    {
      "cell_type": "code",
      "metadata": {
        "id": "YPsk728WkNpZ",
        "colab_type": "code",
        "colab": {},
        "outputId": "06847c0b-23ee-4556-dec9-8c5f22359290"
      },
      "source": [
        "df2.head()"
      ],
      "execution_count": 0,
      "outputs": [
        {
          "output_type": "execute_result",
          "data": {
            "text/html": [
              "<div>\n",
              "<style scoped>\n",
              "    .dataframe tbody tr th:only-of-type {\n",
              "        vertical-align: middle;\n",
              "    }\n",
              "\n",
              "    .dataframe tbody tr th {\n",
              "        vertical-align: top;\n",
              "    }\n",
              "\n",
              "    .dataframe thead th {\n",
              "        text-align: right;\n",
              "    }\n",
              "</style>\n",
              "<table border=\"1\" class=\"dataframe\">\n",
              "  <thead>\n",
              "    <tr style=\"text-align: right;\">\n",
              "      <th></th>\n",
              "      <th>MOVIE NAME</th>\n",
              "      <th>CAST</th>\n",
              "      <th>MENTIONS</th>\n",
              "      <th>TOTAL CENTRALITY</th>\n",
              "      <th>COUNT</th>\n",
              "      <th>AVERAGE CENTRALITY</th>\n",
              "    </tr>\n",
              "  </thead>\n",
              "  <tbody>\n",
              "    <tr>\n",
              "      <th>0</th>\n",
              "      <td>Aan Milo Sajna</td>\n",
              "      <td>anil</td>\n",
              "      <td>13.0</td>\n",
              "      <td>9219.200000</td>\n",
              "      <td>131.0</td>\n",
              "      <td>70.375573</td>\n",
              "    </tr>\n",
              "    <tr>\n",
              "      <th>1</th>\n",
              "      <td>Bachpan</td>\n",
              "      <td>tom</td>\n",
              "      <td>11.0</td>\n",
              "      <td>29.000000</td>\n",
              "      <td>59.0</td>\n",
              "      <td>0.491525</td>\n",
              "    </tr>\n",
              "    <tr>\n",
              "      <th>2</th>\n",
              "      <td>Bachpan</td>\n",
              "      <td>father</td>\n",
              "      <td>5.0</td>\n",
              "      <td>469.333333</td>\n",
              "      <td>63.0</td>\n",
              "      <td>7.449735</td>\n",
              "    </tr>\n",
              "    <tr>\n",
              "      <th>3</th>\n",
              "      <td>Bachpan</td>\n",
              "      <td>rahim</td>\n",
              "      <td>2.0</td>\n",
              "      <td>0.000000</td>\n",
              "      <td>29.0</td>\n",
              "      <td>0.000000</td>\n",
              "    </tr>\n",
              "    <tr>\n",
              "      <th>4</th>\n",
              "      <td>Aag Aur Shola</td>\n",
              "      <td>nagesh</td>\n",
              "      <td>4.0</td>\n",
              "      <td>94.000000</td>\n",
              "      <td>38.0</td>\n",
              "      <td>2.473684</td>\n",
              "    </tr>\n",
              "  </tbody>\n",
              "</table>\n",
              "</div>"
            ],
            "text/plain": [
              "       MOVIE NAME    CAST   MENTIONS   TOTAL CENTRALITY   COUNT  \\\n",
              "0  Aan Milo Sajna    anil       13.0        9219.200000   131.0   \n",
              "1         Bachpan     tom       11.0          29.000000    59.0   \n",
              "2         Bachpan  father        5.0         469.333333    63.0   \n",
              "3         Bachpan   rahim        2.0           0.000000    29.0   \n",
              "4   Aag Aur Shola  nagesh        4.0          94.000000    38.0   \n",
              "\n",
              "    AVERAGE CENTRALITY  \n",
              "0            70.375573  \n",
              "1             0.491525  \n",
              "2             7.449735  \n",
              "3             0.000000  \n",
              "4             2.473684  "
            ]
          },
          "metadata": {
            "tags": []
          },
          "execution_count": 5
        }
      ]
    },
    {
      "cell_type": "code",
      "metadata": {
        "id": "f50vw7b0kNpa",
        "colab_type": "code",
        "colab": {},
        "outputId": "f5cead9f-9a9b-4732-ae12-1a84ad3741bf"
      },
      "source": [
        "df1[\"name\"] = df1[\"name\"].str.lower()\n",
        "df1.head()"
      ],
      "execution_count": 0,
      "outputs": [
        {
          "output_type": "execute_result",
          "data": {
            "text/html": [
              "<div>\n",
              "<style scoped>\n",
              "    .dataframe tbody tr th:only-of-type {\n",
              "        vertical-align: middle;\n",
              "    }\n",
              "\n",
              "    .dataframe tbody tr th {\n",
              "        vertical-align: top;\n",
              "    }\n",
              "\n",
              "    .dataframe thead th {\n",
              "        text-align: right;\n",
              "    }\n",
              "</style>\n",
              "<table border=\"1\" class=\"dataframe\">\n",
              "  <thead>\n",
              "    <tr style=\"text-align: right;\">\n",
              "      <th></th>\n",
              "      <th>index</th>\n",
              "      <th>name</th>\n",
              "      <th>gender</th>\n",
              "      <th>character</th>\n",
              "    </tr>\n",
              "  </thead>\n",
              "  <tbody>\n",
              "    <tr>\n",
              "      <th>0</th>\n",
              "      <td>0</td>\n",
              "      <td>father_bachpan</td>\n",
              "      <td>MALE</td>\n",
              "      <td>unhappilly</td>\n",
              "    </tr>\n",
              "    <tr>\n",
              "      <th>1</th>\n",
              "      <td>1</td>\n",
              "      <td>rahim_bachpan</td>\n",
              "      <td>MALE</td>\n",
              "      <td>father, father, father</td>\n",
              "    </tr>\n",
              "    <tr>\n",
              "      <th>2</th>\n",
              "      <td>2</td>\n",
              "      <td>kashi_bachpan</td>\n",
              "      <td>UNKNOWN</td>\n",
              "      <td>innocent</td>\n",
              "    </tr>\n",
              "    <tr>\n",
              "      <th>3</th>\n",
              "      <td>3</td>\n",
              "      <td>actor_bombay talkie</td>\n",
              "      <td>MALE</td>\n",
              "      <td>famous</td>\n",
              "    </tr>\n",
              "    <tr>\n",
              "      <th>4</th>\n",
              "      <td>4</td>\n",
              "      <td>seema_chetna</td>\n",
              "      <td>FEMALE</td>\n",
              "      <td>unrecognizable</td>\n",
              "    </tr>\n",
              "  </tbody>\n",
              "</table>\n",
              "</div>"
            ],
            "text/plain": [
              "   index                 name   gender               character\n",
              "0      0       father_bachpan     MALE              unhappilly\n",
              "1      1        rahim_bachpan     MALE  father, father, father\n",
              "2      2        kashi_bachpan  UNKNOWN                innocent\n",
              "3      3  actor_bombay talkie     MALE                  famous\n",
              "4      4         seema_chetna   FEMALE          unrecognizable"
            ]
          },
          "metadata": {
            "tags": []
          },
          "execution_count": 25
        }
      ]
    },
    {
      "cell_type": "code",
      "metadata": {
        "id": "EGEyrthzkNpc",
        "colab_type": "code",
        "colab": {}
      },
      "source": [
        "df1.columns = ['index', 'name', 'gender', 'character']"
      ],
      "execution_count": 0,
      "outputs": []
    },
    {
      "cell_type": "code",
      "metadata": {
        "id": "k4EDV3aVkNpe",
        "colab_type": "code",
        "colab": {}
      },
      "source": [
        "df2.columns = ['MOVIE NAME', 'CAST', 'MENTIONS', 'TOTAL CENTRALITY', 'COUNT', 'AVERAGE CENTRALITY']"
      ],
      "execution_count": 0,
      "outputs": []
    },
    {
      "cell_type": "code",
      "metadata": {
        "id": "D-TouwHnkNpg",
        "colab_type": "code",
        "colab": {}
      },
      "source": [
        "df2['name'] = df2['CAST'] + \"_\" + df2['MOVIE NAME']"
      ],
      "execution_count": 0,
      "outputs": []
    },
    {
      "cell_type": "code",
      "metadata": {
        "id": "-5oZGvchkNpi",
        "colab_type": "code",
        "colab": {}
      },
      "source": [
        "df2[\"name\"] = df2[\"name\"].str.lower()"
      ],
      "execution_count": 0,
      "outputs": []
    },
    {
      "cell_type": "code",
      "metadata": {
        "id": "HTB5_p31kNpk",
        "colab_type": "code",
        "colab": {},
        "outputId": "c70475d6-11b5-4a57-be40-973b8da8995c"
      },
      "source": [
        "df2.head()"
      ],
      "execution_count": 0,
      "outputs": [
        {
          "output_type": "execute_result",
          "data": {
            "text/html": [
              "<div>\n",
              "<style scoped>\n",
              "    .dataframe tbody tr th:only-of-type {\n",
              "        vertical-align: middle;\n",
              "    }\n",
              "\n",
              "    .dataframe tbody tr th {\n",
              "        vertical-align: top;\n",
              "    }\n",
              "\n",
              "    .dataframe thead th {\n",
              "        text-align: right;\n",
              "    }\n",
              "</style>\n",
              "<table border=\"1\" class=\"dataframe\">\n",
              "  <thead>\n",
              "    <tr style=\"text-align: right;\">\n",
              "      <th></th>\n",
              "      <th>MOVIE NAME</th>\n",
              "      <th>CAST</th>\n",
              "      <th>MENTIONS</th>\n",
              "      <th>TOTAL CENTRALITY</th>\n",
              "      <th>COUNT</th>\n",
              "      <th>AVERAGE CENTRALITY</th>\n",
              "      <th>name</th>\n",
              "    </tr>\n",
              "  </thead>\n",
              "  <tbody>\n",
              "    <tr>\n",
              "      <th>0</th>\n",
              "      <td>Aan Milo Sajna</td>\n",
              "      <td>anil</td>\n",
              "      <td>13.0</td>\n",
              "      <td>9219.200000</td>\n",
              "      <td>131.0</td>\n",
              "      <td>70.375573</td>\n",
              "      <td>anil_aan milo sajna</td>\n",
              "    </tr>\n",
              "    <tr>\n",
              "      <th>1</th>\n",
              "      <td>Bachpan</td>\n",
              "      <td>tom</td>\n",
              "      <td>11.0</td>\n",
              "      <td>29.000000</td>\n",
              "      <td>59.0</td>\n",
              "      <td>0.491525</td>\n",
              "      <td>tom_bachpan</td>\n",
              "    </tr>\n",
              "    <tr>\n",
              "      <th>2</th>\n",
              "      <td>Bachpan</td>\n",
              "      <td>father</td>\n",
              "      <td>5.0</td>\n",
              "      <td>469.333333</td>\n",
              "      <td>63.0</td>\n",
              "      <td>7.449735</td>\n",
              "      <td>father_bachpan</td>\n",
              "    </tr>\n",
              "    <tr>\n",
              "      <th>3</th>\n",
              "      <td>Bachpan</td>\n",
              "      <td>rahim</td>\n",
              "      <td>2.0</td>\n",
              "      <td>0.000000</td>\n",
              "      <td>29.0</td>\n",
              "      <td>0.000000</td>\n",
              "      <td>rahim_bachpan</td>\n",
              "    </tr>\n",
              "    <tr>\n",
              "      <th>4</th>\n",
              "      <td>Aag Aur Shola</td>\n",
              "      <td>nagesh</td>\n",
              "      <td>4.0</td>\n",
              "      <td>94.000000</td>\n",
              "      <td>38.0</td>\n",
              "      <td>2.473684</td>\n",
              "      <td>nagesh_aag aur shola</td>\n",
              "    </tr>\n",
              "  </tbody>\n",
              "</table>\n",
              "</div>"
            ],
            "text/plain": [
              "       MOVIE NAME    CAST  MENTIONS  TOTAL CENTRALITY  COUNT  \\\n",
              "0  Aan Milo Sajna    anil      13.0       9219.200000  131.0   \n",
              "1         Bachpan     tom      11.0         29.000000   59.0   \n",
              "2         Bachpan  father       5.0        469.333333   63.0   \n",
              "3         Bachpan   rahim       2.0          0.000000   29.0   \n",
              "4   Aag Aur Shola  nagesh       4.0         94.000000   38.0   \n",
              "\n",
              "   AVERAGE CENTRALITY                  name  \n",
              "0           70.375573   anil_aan milo sajna  \n",
              "1            0.491525           tom_bachpan  \n",
              "2            7.449735        father_bachpan  \n",
              "3            0.000000         rahim_bachpan  \n",
              "4            2.473684  nagesh_aag aur shola  "
            ]
          },
          "metadata": {
            "tags": []
          },
          "execution_count": 31
        }
      ]
    },
    {
      "cell_type": "code",
      "metadata": {
        "id": "hazWFRHjkNpl",
        "colab_type": "code",
        "colab": {},
        "outputId": "7720fcbd-b698-4864-b6ba-ee474e686f42"
      },
      "source": [
        "result = pd.merge(df1, df2[['MOVIE NAME', 'MENTIONS', 'COUNT', 'TOTAL CENTRALITY', 'name']], on='name', how='right')\n",
        "result = result.drop(['index'], axis=1)\n",
        "result.head()"
      ],
      "execution_count": 0,
      "outputs": [
        {
          "output_type": "execute_result",
          "data": {
            "text/html": [
              "<div>\n",
              "<style scoped>\n",
              "    .dataframe tbody tr th:only-of-type {\n",
              "        vertical-align: middle;\n",
              "    }\n",
              "\n",
              "    .dataframe tbody tr th {\n",
              "        vertical-align: top;\n",
              "    }\n",
              "\n",
              "    .dataframe thead th {\n",
              "        text-align: right;\n",
              "    }\n",
              "</style>\n",
              "<table border=\"1\" class=\"dataframe\">\n",
              "  <thead>\n",
              "    <tr style=\"text-align: right;\">\n",
              "      <th></th>\n",
              "      <th>name</th>\n",
              "      <th>gender</th>\n",
              "      <th>character</th>\n",
              "      <th>MOVIE NAME</th>\n",
              "      <th>MENTIONS</th>\n",
              "      <th>COUNT</th>\n",
              "      <th>TOTAL CENTRALITY</th>\n",
              "    </tr>\n",
              "  </thead>\n",
              "  <tbody>\n",
              "    <tr>\n",
              "      <th>0</th>\n",
              "      <td>father_bachpan</td>\n",
              "      <td>MALE</td>\n",
              "      <td>unhappilly</td>\n",
              "      <td>Bachpan</td>\n",
              "      <td>5.0</td>\n",
              "      <td>63.0</td>\n",
              "      <td>469.333333</td>\n",
              "    </tr>\n",
              "    <tr>\n",
              "      <th>1</th>\n",
              "      <td>rahim_bachpan</td>\n",
              "      <td>MALE</td>\n",
              "      <td>father, father, father</td>\n",
              "      <td>Bachpan</td>\n",
              "      <td>2.0</td>\n",
              "      <td>29.0</td>\n",
              "      <td>0.000000</td>\n",
              "    </tr>\n",
              "    <tr>\n",
              "      <th>2</th>\n",
              "      <td>actor_bombay talkie</td>\n",
              "      <td>MALE</td>\n",
              "      <td>famous</td>\n",
              "      <td>Bombay Talkie</td>\n",
              "      <td>1.0</td>\n",
              "      <td>4.0</td>\n",
              "      <td>15.000000</td>\n",
              "    </tr>\n",
              "    <tr>\n",
              "      <th>3</th>\n",
              "      <td>man_chetna</td>\n",
              "      <td>MALE</td>\n",
              "      <td>shy,  young</td>\n",
              "      <td>Chetna</td>\n",
              "      <td>1.0</td>\n",
              "      <td>25.0</td>\n",
              "      <td>368.166667</td>\n",
              "    </tr>\n",
              "    <tr>\n",
              "      <th>4</th>\n",
              "      <td>anil_chetna</td>\n",
              "      <td>MALE</td>\n",
              "      <td>father, father, father</td>\n",
              "      <td>Chetna</td>\n",
              "      <td>18.0</td>\n",
              "      <td>180.0</td>\n",
              "      <td>526.000000</td>\n",
              "    </tr>\n",
              "  </tbody>\n",
              "</table>\n",
              "</div>"
            ],
            "text/plain": [
              "                  name gender               character     MOVIE NAME  \\\n",
              "0       father_bachpan   MALE              unhappilly        Bachpan   \n",
              "1        rahim_bachpan   MALE  father, father, father        Bachpan   \n",
              "2  actor_bombay talkie   MALE                  famous  Bombay Talkie   \n",
              "3           man_chetna   MALE             shy,  young         Chetna   \n",
              "4          anil_chetna   MALE  father, father, father         Chetna   \n",
              "\n",
              "   MENTIONS  COUNT  TOTAL CENTRALITY  \n",
              "0       5.0   63.0        469.333333  \n",
              "1       2.0   29.0          0.000000  \n",
              "2       1.0    4.0         15.000000  \n",
              "3       1.0   25.0        368.166667  \n",
              "4      18.0  180.0        526.000000  "
            ]
          },
          "metadata": {
            "tags": []
          },
          "execution_count": 32
        }
      ]
    },
    {
      "cell_type": "code",
      "metadata": {
        "id": "qbBeg_E5kNpn",
        "colab_type": "code",
        "colab": {}
      },
      "source": [
        "result.columns = result.columns.str.lower()"
      ],
      "execution_count": 0,
      "outputs": []
    },
    {
      "cell_type": "code",
      "metadata": {
        "id": "6J1gknv6kNpo",
        "colab_type": "code",
        "colab": {}
      },
      "source": [
        "result.to_csv(path_or_buf='./processed/second.csv', index=True)"
      ],
      "execution_count": 0,
      "outputs": []
    },
    {
      "cell_type": "code",
      "metadata": {
        "id": "Z-ESMgxFkNpq",
        "colab_type": "code",
        "colab": {},
        "outputId": "5ddeca7e-fc82-4169-c072-2c461da94d77"
      },
      "source": [
        "result.head()"
      ],
      "execution_count": 0,
      "outputs": [
        {
          "output_type": "execute_result",
          "data": {
            "text/html": [
              "<div>\n",
              "<style scoped>\n",
              "    .dataframe tbody tr th:only-of-type {\n",
              "        vertical-align: middle;\n",
              "    }\n",
              "\n",
              "    .dataframe tbody tr th {\n",
              "        vertical-align: top;\n",
              "    }\n",
              "\n",
              "    .dataframe thead th {\n",
              "        text-align: right;\n",
              "    }\n",
              "</style>\n",
              "<table border=\"1\" class=\"dataframe\">\n",
              "  <thead>\n",
              "    <tr style=\"text-align: right;\">\n",
              "      <th></th>\n",
              "      <th>name</th>\n",
              "      <th>gender</th>\n",
              "      <th>character</th>\n",
              "      <th>movie name</th>\n",
              "      <th>mentions</th>\n",
              "      <th>count</th>\n",
              "      <th>total centrality</th>\n",
              "    </tr>\n",
              "  </thead>\n",
              "  <tbody>\n",
              "    <tr>\n",
              "      <th>0</th>\n",
              "      <td>father_bachpan</td>\n",
              "      <td>MALE</td>\n",
              "      <td>unhappilly</td>\n",
              "      <td>Bachpan</td>\n",
              "      <td>5.0</td>\n",
              "      <td>63.0</td>\n",
              "      <td>469.333333</td>\n",
              "    </tr>\n",
              "    <tr>\n",
              "      <th>1</th>\n",
              "      <td>rahim_bachpan</td>\n",
              "      <td>MALE</td>\n",
              "      <td>father, father, father</td>\n",
              "      <td>Bachpan</td>\n",
              "      <td>2.0</td>\n",
              "      <td>29.0</td>\n",
              "      <td>0.000000</td>\n",
              "    </tr>\n",
              "    <tr>\n",
              "      <th>2</th>\n",
              "      <td>actor_bombay talkie</td>\n",
              "      <td>MALE</td>\n",
              "      <td>famous</td>\n",
              "      <td>Bombay Talkie</td>\n",
              "      <td>1.0</td>\n",
              "      <td>4.0</td>\n",
              "      <td>15.000000</td>\n",
              "    </tr>\n",
              "    <tr>\n",
              "      <th>3</th>\n",
              "      <td>man_chetna</td>\n",
              "      <td>MALE</td>\n",
              "      <td>shy,  young</td>\n",
              "      <td>Chetna</td>\n",
              "      <td>1.0</td>\n",
              "      <td>25.0</td>\n",
              "      <td>368.166667</td>\n",
              "    </tr>\n",
              "    <tr>\n",
              "      <th>4</th>\n",
              "      <td>anil_chetna</td>\n",
              "      <td>MALE</td>\n",
              "      <td>father, father, father</td>\n",
              "      <td>Chetna</td>\n",
              "      <td>18.0</td>\n",
              "      <td>180.0</td>\n",
              "      <td>526.000000</td>\n",
              "    </tr>\n",
              "  </tbody>\n",
              "</table>\n",
              "</div>"
            ],
            "text/plain": [
              "                  name gender               character     movie name  \\\n",
              "0       father_bachpan   MALE              unhappilly        Bachpan   \n",
              "1        rahim_bachpan   MALE  father, father, father        Bachpan   \n",
              "2  actor_bombay talkie   MALE                  famous  Bombay Talkie   \n",
              "3           man_chetna   MALE             shy,  young         Chetna   \n",
              "4          anil_chetna   MALE  father, father, father         Chetna   \n",
              "\n",
              "   mentions  count  total centrality  \n",
              "0       5.0   63.0        469.333333  \n",
              "1       2.0   29.0          0.000000  \n",
              "2       1.0    4.0         15.000000  \n",
              "3       1.0   25.0        368.166667  \n",
              "4      18.0  180.0        526.000000  "
            ]
          },
          "metadata": {
            "tags": []
          },
          "execution_count": 38
        }
      ]
    },
    {
      "cell_type": "code",
      "metadata": {
        "id": "z4B6iD6kkNpr",
        "colab_type": "code",
        "colab": {}
      },
      "source": [
        ""
      ],
      "execution_count": 0,
      "outputs": []
    }
  ]
}