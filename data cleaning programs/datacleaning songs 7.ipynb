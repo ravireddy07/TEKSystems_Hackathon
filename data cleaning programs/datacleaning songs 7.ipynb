{
  "nbformat": 4,
  "nbformat_minor": 0,
  "metadata": {
    "kernelspec": {
      "display_name": "Python 3",
      "language": "python",
      "name": "python3"
    },
    "language_info": {
      "codemirror_mode": {
        "name": "ipython",
        "version": 3
      },
      "file_extension": ".py",
      "mimetype": "text/x-python",
      "name": "python",
      "nbconvert_exporter": "python",
      "pygments_lexer": "ipython3",
      "version": "3.6.8"
    },
    "colab": {
      "name": "7.ipynb",
      "version": "0.3.2",
      "provenance": []
    }
  },
  "cells": [
    {
      "cell_type": "code",
      "metadata": {
        "id": "Hfh-uFYjmObm",
        "colab_type": "code",
        "colab": {}
      },
      "source": [
        "import pandas as pd"
      ],
      "execution_count": 0,
      "outputs": []
    },
    {
      "cell_type": "code",
      "metadata": {
        "id": "Q3ZjAWPomObt",
        "colab_type": "code",
        "colab": {},
        "outputId": "91deafc1-d03f-4aba-85d8-a6e4afbe5909"
      },
      "source": [
        "df = pd.read_csv('./songsDB.csv', error_bad_lines=False)"
      ],
      "execution_count": 0,
      "outputs": [
        {
          "output_type": "stream",
          "text": [
            "b'Skipping line 3041: expected 4 fields, saw 5\\nSkipping line 3049: expected 4 fields, saw 5\\nSkipping line 3124: expected 4 fields, saw 5\\nSkipping line 3897: expected 4 fields, saw 5\\nSkipping line 5616: expected 4 fields, saw 5\\nSkipping line 6062: expected 4 fields, saw 5\\nSkipping line 6091: expected 4 fields, saw 5\\nSkipping line 6720: expected 4 fields, saw 5\\nSkipping line 6928: expected 4 fields, saw 5\\nSkipping line 7532: expected 4 fields, saw 5\\nSkipping line 7879: expected 4 fields, saw 5\\nSkipping line 8454: expected 4 fields, saw 5\\n'\n"
          ],
          "name": "stderr"
        }
      ]
    },
    {
      "cell_type": "code",
      "metadata": {
        "id": "DpppnlUQmOby",
        "colab_type": "code",
        "colab": {},
        "outputId": "3c589f1c-f2b2-4bc5-df04-9b1571b0e329"
      },
      "source": [
        "df.head()"
      ],
      "execution_count": 0,
      "outputs": [
        {
          "output_type": "execute_result",
          "data": {
            "text/html": [
              "<div>\n",
              "<style scoped>\n",
              "    .dataframe tbody tr th:only-of-type {\n",
              "        vertical-align: middle;\n",
              "    }\n",
              "\n",
              "    .dataframe tbody tr th {\n",
              "        vertical-align: top;\n",
              "    }\n",
              "\n",
              "    .dataframe thead th {\n",
              "        text-align: right;\n",
              "    }\n",
              "</style>\n",
              "<table border=\"1\" class=\"dataframe\">\n",
              "  <thead>\n",
              "    <tr style=\"text-align: right;\">\n",
              "      <th></th>\n",
              "      <th>movieTitle_year</th>\n",
              "      <th>singer_name</th>\n",
              "      <th>gender</th>\n",
              "      <th>song_count</th>\n",
              "    </tr>\n",
              "  </thead>\n",
              "  <tbody>\n",
              "    <tr>\n",
              "      <th>0</th>\n",
              "      <td>Aag Aur Daag_1970</td>\n",
              "      <td>Asha Bhosle</td>\n",
              "      <td>FEMALE</td>\n",
              "      <td>3</td>\n",
              "    </tr>\n",
              "    <tr>\n",
              "      <th>1</th>\n",
              "      <td>Aag Aur Daag_1970</td>\n",
              "      <td>Mohammed Rafi</td>\n",
              "      <td>MALE</td>\n",
              "      <td>1</td>\n",
              "    </tr>\n",
              "    <tr>\n",
              "      <th>2</th>\n",
              "      <td>Aan Milo Sajna_1970</td>\n",
              "      <td>Kishore Kumar</td>\n",
              "      <td>MALE</td>\n",
              "      <td>2</td>\n",
              "    </tr>\n",
              "    <tr>\n",
              "      <th>3</th>\n",
              "      <td>Aan Milo Sajna_1970</td>\n",
              "      <td>Lata Mangeshkar</td>\n",
              "      <td>FEMALE</td>\n",
              "      <td>3</td>\n",
              "    </tr>\n",
              "    <tr>\n",
              "      <th>4</th>\n",
              "      <td>Aan Milo Sajna_1970</td>\n",
              "      <td>Mohammed Rafi</td>\n",
              "      <td>MALE</td>\n",
              "      <td>2</td>\n",
              "    </tr>\n",
              "  </tbody>\n",
              "</table>\n",
              "</div>"
            ],
            "text/plain": [
              "       movieTitle_year      singer_name  gender  song_count\n",
              "0    Aag Aur Daag_1970      Asha Bhosle  FEMALE           3\n",
              "1    Aag Aur Daag_1970    Mohammed Rafi    MALE           1\n",
              "2  Aan Milo Sajna_1970    Kishore Kumar    MALE           2\n",
              "3  Aan Milo Sajna_1970  Lata Mangeshkar  FEMALE           3\n",
              "4  Aan Milo Sajna_1970    Mohammed Rafi    MALE           2"
            ]
          },
          "metadata": {
            "tags": []
          },
          "execution_count": 7
        }
      ]
    },
    {
      "cell_type": "code",
      "metadata": {
        "id": "5kR-CeeTmOb2",
        "colab_type": "code",
        "colab": {}
      },
      "source": [
        "df.columns = ['movie', 'singer_name', 'gender', 'song_count']"
      ],
      "execution_count": 0,
      "outputs": []
    },
    {
      "cell_type": "code",
      "metadata": {
        "id": "Dgdk72oRmOb5",
        "colab_type": "code",
        "colab": {}
      },
      "source": [
        "def function(x):\n",
        "    return x.split(\"_\")[0]\n",
        "df['movie'] = df['movie'].apply(lambda x: function(x))"
      ],
      "execution_count": 0,
      "outputs": []
    },
    {
      "cell_type": "code",
      "metadata": {
        "id": "l0MhZnZAmOb8",
        "colab_type": "code",
        "colab": {},
        "outputId": "e8ada069-6f0c-4305-af67-3f5da9f362e8"
      },
      "source": [
        "df.head()"
      ],
      "execution_count": 0,
      "outputs": [
        {
          "output_type": "execute_result",
          "data": {
            "text/html": [
              "<div>\n",
              "<style scoped>\n",
              "    .dataframe tbody tr th:only-of-type {\n",
              "        vertical-align: middle;\n",
              "    }\n",
              "\n",
              "    .dataframe tbody tr th {\n",
              "        vertical-align: top;\n",
              "    }\n",
              "\n",
              "    .dataframe thead th {\n",
              "        text-align: right;\n",
              "    }\n",
              "</style>\n",
              "<table border=\"1\" class=\"dataframe\">\n",
              "  <thead>\n",
              "    <tr style=\"text-align: right;\">\n",
              "      <th></th>\n",
              "      <th>movie</th>\n",
              "      <th>singer_name</th>\n",
              "      <th>gender</th>\n",
              "      <th>song_count</th>\n",
              "    </tr>\n",
              "  </thead>\n",
              "  <tbody>\n",
              "    <tr>\n",
              "      <th>0</th>\n",
              "      <td>Aag Aur Daag</td>\n",
              "      <td>Asha Bhosle</td>\n",
              "      <td>FEMALE</td>\n",
              "      <td>3</td>\n",
              "    </tr>\n",
              "    <tr>\n",
              "      <th>1</th>\n",
              "      <td>Aag Aur Daag</td>\n",
              "      <td>Mohammed Rafi</td>\n",
              "      <td>MALE</td>\n",
              "      <td>1</td>\n",
              "    </tr>\n",
              "    <tr>\n",
              "      <th>2</th>\n",
              "      <td>Aan Milo Sajna</td>\n",
              "      <td>Kishore Kumar</td>\n",
              "      <td>MALE</td>\n",
              "      <td>2</td>\n",
              "    </tr>\n",
              "    <tr>\n",
              "      <th>3</th>\n",
              "      <td>Aan Milo Sajna</td>\n",
              "      <td>Lata Mangeshkar</td>\n",
              "      <td>FEMALE</td>\n",
              "      <td>3</td>\n",
              "    </tr>\n",
              "    <tr>\n",
              "      <th>4</th>\n",
              "      <td>Aan Milo Sajna</td>\n",
              "      <td>Mohammed Rafi</td>\n",
              "      <td>MALE</td>\n",
              "      <td>2</td>\n",
              "    </tr>\n",
              "  </tbody>\n",
              "</table>\n",
              "</div>"
            ],
            "text/plain": [
              "            movie      singer_name  gender  song_count\n",
              "0    Aag Aur Daag      Asha Bhosle  FEMALE           3\n",
              "1    Aag Aur Daag    Mohammed Rafi    MALE           1\n",
              "2  Aan Milo Sajna    Kishore Kumar    MALE           2\n",
              "3  Aan Milo Sajna  Lata Mangeshkar  FEMALE           3\n",
              "4  Aan Milo Sajna    Mohammed Rafi    MALE           2"
            ]
          },
          "metadata": {
            "tags": []
          },
          "execution_count": 11
        }
      ]
    },
    {
      "cell_type": "code",
      "metadata": {
        "id": "viY6Xu82mOcB",
        "colab_type": "code",
        "colab": {}
      },
      "source": [
        "df.to_csv(path_or_buf='./processed/singer_movie', index=True)"
      ],
      "execution_count": 0,
      "outputs": []
    },
    {
      "cell_type": "code",
      "metadata": {
        "id": "quEng5lVmOcE",
        "colab_type": "code",
        "colab": {}
      },
      "source": [
        ""
      ],
      "execution_count": 0,
      "outputs": []
    }
  ]
}