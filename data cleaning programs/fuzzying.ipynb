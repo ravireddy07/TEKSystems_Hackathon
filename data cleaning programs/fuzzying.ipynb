{
  "nbformat": 4,
  "nbformat_minor": 0,
  "metadata": {
    "colab": {
      "name": "fuzzying.ipynb",
      "version": "0.3.2",
      "provenance": []
    },
    "kernelspec": {
      "name": "python3",
      "display_name": "Python 3"
    }
  },
  "cells": [
    {
      "cell_type": "code",
      "metadata": {
        "id": "Gn5kPxd6na4p",
        "colab_type": "code",
        "colab": {}
      },
      "source": [
        "def genre(self, m):\n",
        "        col = self.df2[self.df2['movie']==m]\n",
        "        if(col.empty):\n",
        "            print(\"The movie \", m, \" is not found in the database. Try again with another value.\", sep=\"\")\n",
        "            return\n",
        "        se = col['emotion'].value_counts()\n",
        "        gen = se[se == max(se.values)].index[0]\n",
        "        \n",
        "        #fuzzying the output\n",
        "        \n",
        "        if(gen==\"happy\"):\n",
        "            genre = \"Family-Entertainer\"\n",
        "        elif(gen == \"neutral\"):\n",
        "            genre = \"Drama\"\n",
        "        elif(gen == \"sad\"):\n",
        "            genre = \"Melo-Drama\"\n",
        "        elif(gen == \"angry\"):\n",
        "            genre = \"Action\"\n",
        "        elif(gen == \"fear\"):\n",
        "            genre = \"Horror\"\n",
        "        elif(gen==\"suprise\"):\n",
        "            genre = \"Suspence Thriller\"\n",
        "        elif(gen==\"disgust\"):\n",
        "            genre = \"Crime-Thriller\"\n",
        "        print(\"GENRE:\")\n",
        "        print(\"The movie \", m, \" is a \", genre, \" genre film.\", sep=\"\")\n",
        "        "
      ],
      "execution_count": 0,
      "outputs": []
    }
  ]
}