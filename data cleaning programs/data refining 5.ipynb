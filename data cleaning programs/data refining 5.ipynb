{
  "nbformat": 4,
  "nbformat_minor": 0,
  "metadata": {
    "kernelspec": {
      "display_name": "Python 3",
      "language": "python",
      "name": "python3"
    },
    "language_info": {
      "codemirror_mode": {
        "name": "ipython",
        "version": 3
      },
      "file_extension": ".py",
      "mimetype": "text/x-python",
      "name": "python",
      "nbconvert_exporter": "python",
      "pygments_lexer": "ipython3",
      "version": "3.6.5"
    },
    "colab": {
      "name": "5.ipynb",
      "version": "0.3.2",
      "provenance": []
    }
  },
  "cells": [
    {
      "cell_type": "code",
      "metadata": {
        "id": "EOmO_J9XlENO",
        "colab_type": "code",
        "colab": {}
      },
      "source": [
        "import pandas as pd\n",
        "df1 = pd.read_csv('./songsFrequency.csv')\n",
        "df2 = pd.read_csv('./processed/third.csv')\n",
        "dfp = pd.read_csv('./processed/movie_plot.csv')"
      ],
      "execution_count": 0,
      "outputs": []
    },
    {
      "cell_type": "code",
      "metadata": {
        "id": "5Fg4dGHalENX",
        "colab_type": "code",
        "colab": {},
        "outputId": "a40f93e6-e75a-4741-f2eb-c73d2b1a462e"
      },
      "source": [
        "df1.columns = ['MOVIE', 'YEAR', 'MALE SINGER COUNT', 'FEMALE SINGER COUNT', 'MALE SONG COUNT', 'FEMALE SONG COUNT']\n",
        "df1.columns = df1.columns.str.lower()\n",
        "df1 = df1[['movie', 'year']]\n",
        "df1.columns"
      ],
      "execution_count": 0,
      "outputs": [
        {
          "output_type": "execute_result",
          "data": {
            "text/plain": [
              "Index(['movie', 'year'], dtype='object')"
            ]
          },
          "metadata": {
            "tags": []
          },
          "execution_count": 85
        }
      ]
    },
    {
      "cell_type": "code",
      "metadata": {
        "id": "VA168CBglENe",
        "colab_type": "code",
        "colab": {},
        "outputId": "5965bce3-784e-4c01-bcd5-ba7bcd7f21fe"
      },
      "source": [
        "df2.head()"
      ],
      "execution_count": 0,
      "outputs": [
        {
          "output_type": "execute_result",
          "data": {
            "text/html": [
              "<div>\n",
              "<style scoped>\n",
              "    .dataframe tbody tr th:only-of-type {\n",
              "        vertical-align: middle;\n",
              "    }\n",
              "\n",
              "    .dataframe tbody tr th {\n",
              "        vertical-align: top;\n",
              "    }\n",
              "\n",
              "    .dataframe thead th {\n",
              "        text-align: right;\n",
              "    }\n",
              "</style>\n",
              "<table border=\"1\" class=\"dataframe\">\n",
              "  <thead>\n",
              "    <tr style=\"text-align: right;\">\n",
              "      <th></th>\n",
              "      <th>Unnamed: 0</th>\n",
              "      <th>name</th>\n",
              "      <th>gender</th>\n",
              "      <th>character</th>\n",
              "      <th>movie name</th>\n",
              "      <th>mentions</th>\n",
              "      <th>count</th>\n",
              "      <th>total centrality</th>\n",
              "      <th>average centrality</th>\n",
              "    </tr>\n",
              "  </thead>\n",
              "  <tbody>\n",
              "    <tr>\n",
              "      <th>0</th>\n",
              "      <td>0</td>\n",
              "      <td>seema_chetna</td>\n",
              "      <td>FEMALE</td>\n",
              "      <td>unrecognizable</td>\n",
              "      <td>Chetna</td>\n",
              "      <td>23.0</td>\n",
              "      <td>170.0</td>\n",
              "      <td>227.500000</td>\n",
              "      <td>1.338235</td>\n",
              "    </tr>\n",
              "    <tr>\n",
              "      <th>1</th>\n",
              "      <td>1</td>\n",
              "      <td>janki_geet</td>\n",
              "      <td>FEMALE</td>\n",
              "      <td>sister, sister, sister</td>\n",
              "      <td>Geet</td>\n",
              "      <td>7.0</td>\n",
              "      <td>56.0</td>\n",
              "      <td>220.166667</td>\n",
              "      <td>3.931548</td>\n",
              "    </tr>\n",
              "    <tr>\n",
              "      <th>2</th>\n",
              "      <td>2</td>\n",
              "      <td>deepa_jeevan mrityu</td>\n",
              "      <td>FEMALE</td>\n",
              "      <td>mother, mother, mother</td>\n",
              "      <td>Jeevan Mrityu</td>\n",
              "      <td>5.0</td>\n",
              "      <td>53.0</td>\n",
              "      <td>27.000000</td>\n",
              "      <td>0.509434</td>\n",
              "    </tr>\n",
              "    <tr>\n",
              "      <th>3</th>\n",
              "      <td>3</td>\n",
              "      <td>poonam_kati patang</td>\n",
              "      <td>FEMALE</td>\n",
              "      <td>real</td>\n",
              "      <td>Kati Patang</td>\n",
              "      <td>21.0</td>\n",
              "      <td>177.0</td>\n",
              "      <td>685.699553</td>\n",
              "      <td>3.874009</td>\n",
              "    </tr>\n",
              "    <tr>\n",
              "      <th>4</th>\n",
              "      <td>4</td>\n",
              "      <td>radha_khilona</td>\n",
              "      <td>FEMALE</td>\n",
              "      <td>young</td>\n",
              "      <td>Khilona</td>\n",
              "      <td>11.0</td>\n",
              "      <td>78.0</td>\n",
              "      <td>118.500000</td>\n",
              "      <td>1.519231</td>\n",
              "    </tr>\n",
              "  </tbody>\n",
              "</table>\n",
              "</div>"
            ],
            "text/plain": [
              "   Unnamed: 0                 name  gender               character  \\\n",
              "0           0         seema_chetna  FEMALE          unrecognizable   \n",
              "1           1           janki_geet  FEMALE  sister, sister, sister   \n",
              "2           2  deepa_jeevan mrityu  FEMALE  mother, mother, mother   \n",
              "3           3   poonam_kati patang  FEMALE                    real   \n",
              "4           4        radha_khilona  FEMALE                   young   \n",
              "\n",
              "      movie name  mentions  count  total centrality  average centrality  \n",
              "0         Chetna      23.0  170.0        227.500000            1.338235  \n",
              "1           Geet       7.0   56.0        220.166667            3.931548  \n",
              "2  Jeevan Mrityu       5.0   53.0         27.000000            0.509434  \n",
              "3    Kati Patang      21.0  177.0        685.699553            3.874009  \n",
              "4        Khilona      11.0   78.0        118.500000            1.519231  "
            ]
          },
          "metadata": {
            "tags": []
          },
          "execution_count": 55
        }
      ]
    },
    {
      "cell_type": "code",
      "metadata": {
        "id": "gYb6s-T9lENk",
        "colab_type": "code",
        "colab": {},
        "outputId": "8c4d35c7-ec7d-4c0f-a319-fedc64cdcf54"
      },
      "source": [
        "df1.head()"
      ],
      "execution_count": 0,
      "outputs": [
        {
          "output_type": "execute_result",
          "data": {
            "text/html": [
              "<div>\n",
              "<style scoped>\n",
              "    .dataframe tbody tr th:only-of-type {\n",
              "        vertical-align: middle;\n",
              "    }\n",
              "\n",
              "    .dataframe tbody tr th {\n",
              "        vertical-align: top;\n",
              "    }\n",
              "\n",
              "    .dataframe thead th {\n",
              "        text-align: right;\n",
              "    }\n",
              "</style>\n",
              "<table border=\"1\" class=\"dataframe\">\n",
              "  <thead>\n",
              "    <tr style=\"text-align: right;\">\n",
              "      <th></th>\n",
              "      <th>movie</th>\n",
              "      <th>year</th>\n",
              "    </tr>\n",
              "  </thead>\n",
              "  <tbody>\n",
              "    <tr>\n",
              "      <th>0</th>\n",
              "      <td>Raabta (film)_2017</td>\n",
              "      <td>2017</td>\n",
              "    </tr>\n",
              "    <tr>\n",
              "      <th>1</th>\n",
              "      <td>Luv U Soniyo_2013</td>\n",
              "      <td>2013</td>\n",
              "    </tr>\n",
              "    <tr>\n",
              "      <th>2</th>\n",
              "      <td>Sahibaan_1993</td>\n",
              "      <td>1993</td>\n",
              "    </tr>\n",
              "    <tr>\n",
              "      <th>3</th>\n",
              "      <td>Baap Numbri Beta Dus Numbri_1990</td>\n",
              "      <td>1990</td>\n",
              "    </tr>\n",
              "    <tr>\n",
              "      <th>4</th>\n",
              "      <td>Jyoti Bane Jwala_1980</td>\n",
              "      <td>1980</td>\n",
              "    </tr>\n",
              "  </tbody>\n",
              "</table>\n",
              "</div>"
            ],
            "text/plain": [
              "                              movie  year\n",
              "0                Raabta (film)_2017  2017\n",
              "1                 Luv U Soniyo_2013  2013\n",
              "2                     Sahibaan_1993  1993\n",
              "3  Baap Numbri Beta Dus Numbri_1990  1990\n",
              "4             Jyoti Bane Jwala_1980  1980"
            ]
          },
          "metadata": {
            "tags": []
          },
          "execution_count": 86
        }
      ]
    },
    {
      "cell_type": "code",
      "metadata": {
        "id": "3UdAORfwlENn",
        "colab_type": "code",
        "colab": {},
        "outputId": "0703c002-ddb8-4f98-c39c-94574e908303"
      },
      "source": [
        "def function(x):\n",
        "    return x.split(\"_\")[0]\n",
        "df1['movie'] = df1['movie'].apply(lambda x: function(x))"
      ],
      "execution_count": 0,
      "outputs": [
        {
          "output_type": "stream",
          "text": [
            "C:\\ProgramData\\Miniconda3\\lib\\site-packages\\ipykernel_launcher.py:3: SettingWithCopyWarning: \n",
            "A value is trying to be set on a copy of a slice from a DataFrame.\n",
            "Try using .loc[row_indexer,col_indexer] = value instead\n",
            "\n",
            "See the caveats in the documentation: http://pandas.pydata.org/pandas-docs/stable/indexing.html#indexing-view-versus-copy\n",
            "  This is separate from the ipykernel package so we can avoid doing imports until\n"
          ],
          "name": "stderr"
        }
      ]
    },
    {
      "cell_type": "code",
      "metadata": {
        "id": "FU_QMkwTlENs",
        "colab_type": "code",
        "colab": {},
        "outputId": "5b596a70-8c30-4e4a-e24a-2a5cd198616a"
      },
      "source": [
        "df1.head()"
      ],
      "execution_count": 0,
      "outputs": [
        {
          "output_type": "execute_result",
          "data": {
            "text/html": [
              "<div>\n",
              "<style scoped>\n",
              "    .dataframe tbody tr th:only-of-type {\n",
              "        vertical-align: middle;\n",
              "    }\n",
              "\n",
              "    .dataframe tbody tr th {\n",
              "        vertical-align: top;\n",
              "    }\n",
              "\n",
              "    .dataframe thead th {\n",
              "        text-align: right;\n",
              "    }\n",
              "</style>\n",
              "<table border=\"1\" class=\"dataframe\">\n",
              "  <thead>\n",
              "    <tr style=\"text-align: right;\">\n",
              "      <th></th>\n",
              "      <th>movie</th>\n",
              "      <th>year</th>\n",
              "    </tr>\n",
              "  </thead>\n",
              "  <tbody>\n",
              "    <tr>\n",
              "      <th>0</th>\n",
              "      <td>Raabta (film)</td>\n",
              "      <td>2017</td>\n",
              "    </tr>\n",
              "    <tr>\n",
              "      <th>1</th>\n",
              "      <td>Luv U Soniyo</td>\n",
              "      <td>2013</td>\n",
              "    </tr>\n",
              "    <tr>\n",
              "      <th>2</th>\n",
              "      <td>Sahibaan</td>\n",
              "      <td>1993</td>\n",
              "    </tr>\n",
              "    <tr>\n",
              "      <th>3</th>\n",
              "      <td>Baap Numbri Beta Dus Numbri</td>\n",
              "      <td>1990</td>\n",
              "    </tr>\n",
              "    <tr>\n",
              "      <th>4</th>\n",
              "      <td>Jyoti Bane Jwala</td>\n",
              "      <td>1980</td>\n",
              "    </tr>\n",
              "  </tbody>\n",
              "</table>\n",
              "</div>"
            ],
            "text/plain": [
              "                         movie  year\n",
              "0                Raabta (film)  2017\n",
              "1                 Luv U Soniyo  2013\n",
              "2                     Sahibaan  1993\n",
              "3  Baap Numbri Beta Dus Numbri  1990\n",
              "4             Jyoti Bane Jwala  1980"
            ]
          },
          "metadata": {
            "tags": []
          },
          "execution_count": 88
        }
      ]
    },
    {
      "cell_type": "code",
      "metadata": {
        "id": "_2qrO_XZlENx",
        "colab_type": "code",
        "colab": {},
        "outputId": "201dffa4-51d3-4160-cfd5-6688852084cd"
      },
      "source": [
        "df1['movie'] = df1['movie'].str.lower()\n",
        "df1.head()"
      ],
      "execution_count": 0,
      "outputs": [
        {
          "output_type": "stream",
          "text": [
            "C:\\ProgramData\\Miniconda3\\lib\\site-packages\\ipykernel_launcher.py:1: SettingWithCopyWarning: \n",
            "A value is trying to be set on a copy of a slice from a DataFrame.\n",
            "Try using .loc[row_indexer,col_indexer] = value instead\n",
            "\n",
            "See the caveats in the documentation: http://pandas.pydata.org/pandas-docs/stable/indexing.html#indexing-view-versus-copy\n",
            "  \"\"\"Entry point for launching an IPython kernel.\n"
          ],
          "name": "stderr"
        },
        {
          "output_type": "execute_result",
          "data": {
            "text/html": [
              "<div>\n",
              "<style scoped>\n",
              "    .dataframe tbody tr th:only-of-type {\n",
              "        vertical-align: middle;\n",
              "    }\n",
              "\n",
              "    .dataframe tbody tr th {\n",
              "        vertical-align: top;\n",
              "    }\n",
              "\n",
              "    .dataframe thead th {\n",
              "        text-align: right;\n",
              "    }\n",
              "</style>\n",
              "<table border=\"1\" class=\"dataframe\">\n",
              "  <thead>\n",
              "    <tr style=\"text-align: right;\">\n",
              "      <th></th>\n",
              "      <th>movie</th>\n",
              "      <th>year</th>\n",
              "    </tr>\n",
              "  </thead>\n",
              "  <tbody>\n",
              "    <tr>\n",
              "      <th>0</th>\n",
              "      <td>raabta (film)</td>\n",
              "      <td>2017</td>\n",
              "    </tr>\n",
              "    <tr>\n",
              "      <th>1</th>\n",
              "      <td>luv u soniyo</td>\n",
              "      <td>2013</td>\n",
              "    </tr>\n",
              "    <tr>\n",
              "      <th>2</th>\n",
              "      <td>sahibaan</td>\n",
              "      <td>1993</td>\n",
              "    </tr>\n",
              "    <tr>\n",
              "      <th>3</th>\n",
              "      <td>baap numbri beta dus numbri</td>\n",
              "      <td>1990</td>\n",
              "    </tr>\n",
              "    <tr>\n",
              "      <th>4</th>\n",
              "      <td>jyoti bane jwala</td>\n",
              "      <td>1980</td>\n",
              "    </tr>\n",
              "  </tbody>\n",
              "</table>\n",
              "</div>"
            ],
            "text/plain": [
              "                         movie  year\n",
              "0                raabta (film)  2017\n",
              "1                 luv u soniyo  2013\n",
              "2                     sahibaan  1993\n",
              "3  baap numbri beta dus numbri  1990\n",
              "4             jyoti bane jwala  1980"
            ]
          },
          "metadata": {
            "tags": []
          },
          "execution_count": 89
        }
      ]
    },
    {
      "cell_type": "code",
      "metadata": {
        "id": "ZkZZe4OklEN1",
        "colab_type": "code",
        "colab": {}
      },
      "source": [
        "df2 = df2[['name', 'gender', 'character', 'movie name', 'mentions','count', 'total centrality', 'average centrality']]"
      ],
      "execution_count": 0,
      "outputs": []
    },
    {
      "cell_type": "code",
      "metadata": {
        "id": "NeVoPf4xlEN3",
        "colab_type": "code",
        "colab": {},
        "outputId": "103c5c11-5b72-4333-fbba-762fa86601a2"
      },
      "source": [
        "df2.columns"
      ],
      "execution_count": 0,
      "outputs": [
        {
          "output_type": "execute_result",
          "data": {
            "text/plain": [
              "Index(['name', 'gender', 'character', 'movie name', 'mentions', 'count',\n",
              "       'total centrality', 'average centrality'],\n",
              "      dtype='object')"
            ]
          },
          "metadata": {
            "tags": []
          },
          "execution_count": 70
        }
      ]
    },
    {
      "cell_type": "code",
      "metadata": {
        "id": "Mh_RXeIDlEN6",
        "colab_type": "code",
        "colab": {}
      },
      "source": [
        "df2.columns = ['name', 'gender', 'character', 'movie', 'mentions', 'count','total centrality', 'average centrality']"
      ],
      "execution_count": 0,
      "outputs": []
    },
    {
      "cell_type": "code",
      "metadata": {
        "id": "QSrR5WRNlEN9",
        "colab_type": "code",
        "colab": {},
        "outputId": "1057ef5d-4712-4594-e7fe-498bef621bd9"
      },
      "source": [
        "df2.columns"
      ],
      "execution_count": 0,
      "outputs": [
        {
          "output_type": "execute_result",
          "data": {
            "text/plain": [
              "Index(['name', 'gender', 'character', 'movie', 'mentions', 'count',\n",
              "       'total centrality', 'average centrality'],\n",
              "      dtype='object')"
            ]
          },
          "metadata": {
            "tags": []
          },
          "execution_count": 72
        }
      ]
    },
    {
      "cell_type": "code",
      "metadata": {
        "id": "Wy57C2CRlEOA",
        "colab_type": "code",
        "colab": {},
        "outputId": "b9bbebf0-018d-4428-a243-1b75a5f89178"
      },
      "source": [
        "dfp = dfp[['movie', 'plot']]\n",
        "dfp.head()"
      ],
      "execution_count": 0,
      "outputs": [
        {
          "output_type": "execute_result",
          "data": {
            "text/html": [
              "<div>\n",
              "<style scoped>\n",
              "    .dataframe tbody tr th:only-of-type {\n",
              "        vertical-align: middle;\n",
              "    }\n",
              "\n",
              "    .dataframe tbody tr th {\n",
              "        vertical-align: top;\n",
              "    }\n",
              "\n",
              "    .dataframe thead th {\n",
              "        text-align: right;\n",
              "    }\n",
              "</style>\n",
              "<table border=\"1\" class=\"dataframe\">\n",
              "  <thead>\n",
              "    <tr style=\"text-align: right;\">\n",
              "      <th></th>\n",
              "      <th>movie</th>\n",
              "      <th>plot</th>\n",
              "    </tr>\n",
              "  </thead>\n",
              "  <tbody>\n",
              "    <tr>\n",
              "      <th>0</th>\n",
              "      <td>100 days</td>\n",
              "      <td>The film opens with a young woman  Devi  who ...</td>\n",
              "    </tr>\n",
              "    <tr>\n",
              "      <th>1</th>\n",
              "      <td>13b</td>\n",
              "      <td>Manohar moves into a new apartment  13B  on t...</td>\n",
              "    </tr>\n",
              "    <tr>\n",
              "      <th>2</th>\n",
              "      <td>16 december</td>\n",
              "      <td>A four member team -- Vir Vijay Singh  Vikram...</td>\n",
              "    </tr>\n",
              "    <tr>\n",
              "      <th>3</th>\n",
              "      <td>1920</td>\n",
              "      <td>In the year 1920 at Palampur  India  an archi...</td>\n",
              "    </tr>\n",
              "    <tr>\n",
              "      <th>4</th>\n",
              "      <td>2001: do hazaar ek</td>\n",
              "      <td>Following the brutal slaying of a call-girl n...</td>\n",
              "    </tr>\n",
              "  </tbody>\n",
              "</table>\n",
              "</div>"
            ],
            "text/plain": [
              "                movie                                               plot\n",
              "0            100 days   The film opens with a young woman  Devi  who ...\n",
              "1                 13b   Manohar moves into a new apartment  13B  on t...\n",
              "2         16 december   A four member team -- Vir Vijay Singh  Vikram...\n",
              "3                1920   In the year 1920 at Palampur  India  an archi...\n",
              "4  2001: do hazaar ek   Following the brutal slaying of a call-girl n..."
            ]
          },
          "metadata": {
            "tags": []
          },
          "execution_count": 90
        }
      ]
    },
    {
      "cell_type": "code",
      "metadata": {
        "id": "1cugQWlllEOC",
        "colab_type": "code",
        "colab": {},
        "outputId": "20e644c7-41f6-4858-815b-19302f900c60"
      },
      "source": [
        "df1.head()"
      ],
      "execution_count": 0,
      "outputs": [
        {
          "output_type": "execute_result",
          "data": {
            "text/html": [
              "<div>\n",
              "<style scoped>\n",
              "    .dataframe tbody tr th:only-of-type {\n",
              "        vertical-align: middle;\n",
              "    }\n",
              "\n",
              "    .dataframe tbody tr th {\n",
              "        vertical-align: top;\n",
              "    }\n",
              "\n",
              "    .dataframe thead th {\n",
              "        text-align: right;\n",
              "    }\n",
              "</style>\n",
              "<table border=\"1\" class=\"dataframe\">\n",
              "  <thead>\n",
              "    <tr style=\"text-align: right;\">\n",
              "      <th></th>\n",
              "      <th>movie</th>\n",
              "      <th>year</th>\n",
              "    </tr>\n",
              "  </thead>\n",
              "  <tbody>\n",
              "    <tr>\n",
              "      <th>0</th>\n",
              "      <td>raabta (film)</td>\n",
              "      <td>2017</td>\n",
              "    </tr>\n",
              "    <tr>\n",
              "      <th>1</th>\n",
              "      <td>luv u soniyo</td>\n",
              "      <td>2013</td>\n",
              "    </tr>\n",
              "    <tr>\n",
              "      <th>2</th>\n",
              "      <td>sahibaan</td>\n",
              "      <td>1993</td>\n",
              "    </tr>\n",
              "    <tr>\n",
              "      <th>3</th>\n",
              "      <td>baap numbri beta dus numbri</td>\n",
              "      <td>1990</td>\n",
              "    </tr>\n",
              "    <tr>\n",
              "      <th>4</th>\n",
              "      <td>jyoti bane jwala</td>\n",
              "      <td>1980</td>\n",
              "    </tr>\n",
              "  </tbody>\n",
              "</table>\n",
              "</div>"
            ],
            "text/plain": [
              "                         movie  year\n",
              "0                raabta (film)  2017\n",
              "1                 luv u soniyo  2013\n",
              "2                     sahibaan  1993\n",
              "3  baap numbri beta dus numbri  1990\n",
              "4             jyoti bane jwala  1980"
            ]
          },
          "metadata": {
            "tags": []
          },
          "execution_count": 91
        }
      ]
    },
    {
      "cell_type": "code",
      "metadata": {
        "id": "GUHNg3C0lEOE",
        "colab_type": "code",
        "colab": {},
        "outputId": "138bfe2e-0e0c-42f6-e80d-f21ee708ba12"
      },
      "source": [
        "result2 = pd.merge(dfp, df1[['movie', 'year']], on='movie', how='right')\n",
        "result2.head()"
      ],
      "execution_count": 0,
      "outputs": [
        {
          "output_type": "execute_result",
          "data": {
            "text/html": [
              "<div>\n",
              "<style scoped>\n",
              "    .dataframe tbody tr th:only-of-type {\n",
              "        vertical-align: middle;\n",
              "    }\n",
              "\n",
              "    .dataframe tbody tr th {\n",
              "        vertical-align: top;\n",
              "    }\n",
              "\n",
              "    .dataframe thead th {\n",
              "        text-align: right;\n",
              "    }\n",
              "</style>\n",
              "<table border=\"1\" class=\"dataframe\">\n",
              "  <thead>\n",
              "    <tr style=\"text-align: right;\">\n",
              "      <th></th>\n",
              "      <th>movie</th>\n",
              "      <th>plot</th>\n",
              "      <th>year</th>\n",
              "    </tr>\n",
              "  </thead>\n",
              "  <tbody>\n",
              "    <tr>\n",
              "      <th>0</th>\n",
              "      <td>2001: do hazaar ek</td>\n",
              "      <td>Following the brutal slaying of a call-girl n...</td>\n",
              "      <td>1998</td>\n",
              "    </tr>\n",
              "    <tr>\n",
              "      <th>1</th>\n",
              "      <td>36 ghante</td>\n",
              "      <td>Three hardcore criminals escape from a jail b...</td>\n",
              "      <td>1974</td>\n",
              "    </tr>\n",
              "    <tr>\n",
              "      <th>2</th>\n",
              "      <td>aa ab laut chalen</td>\n",
              "      <td>Rohan Khanna is a jobless graduate living wit...</td>\n",
              "      <td>1999</td>\n",
              "    </tr>\n",
              "    <tr>\n",
              "      <th>3</th>\n",
              "      <td>aa dekhen zara</td>\n",
              "      <td>Ray Acharya  a struggling photographer has no...</td>\n",
              "      <td>2009</td>\n",
              "    </tr>\n",
              "    <tr>\n",
              "      <th>4</th>\n",
              "      <td>aadmi aur apsara</td>\n",
              "      <td>Raju  a courageous and spirited young man  is...</td>\n",
              "      <td>1991</td>\n",
              "    </tr>\n",
              "  </tbody>\n",
              "</table>\n",
              "</div>"
            ],
            "text/plain": [
              "                movie                                               plot  year\n",
              "0  2001: do hazaar ek   Following the brutal slaying of a call-girl n...  1998\n",
              "1           36 ghante   Three hardcore criminals escape from a jail b...  1974\n",
              "2   aa ab laut chalen   Rohan Khanna is a jobless graduate living wit...  1999\n",
              "3      aa dekhen zara   Ray Acharya  a struggling photographer has no...  2009\n",
              "4    aadmi aur apsara   Raju  a courageous and spirited young man  is...  1991"
            ]
          },
          "metadata": {
            "tags": []
          },
          "execution_count": 92
        }
      ]
    },
    {
      "cell_type": "code",
      "metadata": {
        "id": "3FStY20MlEOG",
        "colab_type": "code",
        "colab": {},
        "outputId": "c9d24da1-1da3-48d3-9f7f-8e5c25a84795"
      },
      "source": [
        "result2.info()"
      ],
      "execution_count": 0,
      "outputs": [
        {
          "output_type": "stream",
          "text": [
            "<class 'pandas.core.frame.DataFrame'>\n",
            "Int64Index: 2449 entries, 0 to 2448\n",
            "Data columns (total 3 columns):\n",
            "movie    2449 non-null object\n",
            "plot     790 non-null object\n",
            "year     2449 non-null int64\n",
            "dtypes: int64(1), object(2)\n",
            "memory usage: 76.5+ KB\n"
          ],
          "name": "stdout"
        }
      ]
    },
    {
      "cell_type": "code",
      "metadata": {
        "id": "jpJTZBQDlEOH",
        "colab_type": "code",
        "colab": {}
      },
      "source": [
        "result2.to_csv(path_or_buf='./processed/movie_plot2.csv', index=True)"
      ],
      "execution_count": 0,
      "outputs": []
    },
    {
      "cell_type": "code",
      "metadata": {
        "id": "_k8kiPF1lEOJ",
        "colab_type": "code",
        "colab": {}
      },
      "source": [
        ""
      ],
      "execution_count": 0,
      "outputs": []
    }
  ]
}