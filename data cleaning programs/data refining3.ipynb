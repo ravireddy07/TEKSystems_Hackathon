{
  "nbformat": 4,
  "nbformat_minor": 0,
  "metadata": {
    "kernelspec": {
      "display_name": "Python 3",
      "language": "python",
      "name": "python3"
    },
    "language_info": {
      "codemirror_mode": {
        "name": "ipython",
        "version": 3
      },
      "file_extension": ".py",
      "mimetype": "text/x-python",
      "name": "python",
      "nbconvert_exporter": "python",
      "pygments_lexer": "ipython3",
      "version": "3.6.5"
    },
    "colab": {
      "name": "3.ipynb",
      "version": "0.3.2",
      "provenance": []
    }
  },
  "cells": [
    {
      "cell_type": "code",
      "metadata": {
        "id": "gUnWHsebicor",
        "colab_type": "code",
        "colab": {}
      },
      "source": [
        "import pandas as pd\n",
        "import numpy as np"
      ],
      "execution_count": 0,
      "outputs": []
    },
    {
      "cell_type": "code",
      "metadata": {
        "id": "6z_EpTicicow",
        "colab_type": "code",
        "colab": {}
      },
      "source": [
        "df1 = pd.read_csv('./female_mentions_centrality.csv')\n",
        "df2 = pd.read_csv('./male_mentions_centrality.csv')\n",
        "df3 = pd.read_csv('./avg_wv_relation.csv')\n",
        "df4 = pd.read_csv('./avg_wv_relation.csv')"
      ],
      "execution_count": 0,
      "outputs": []
    },
    {
      "cell_type": "code",
      "metadata": {
        "id": "ibPl0rvBico0",
        "colab_type": "code",
        "colab": {}
      },
      "source": [
        "df1.columns = df1.columns.str.lower()"
      ],
      "execution_count": 0,
      "outputs": []
    },
    {
      "cell_type": "code",
      "metadata": {
        "id": "Nkv4m6N_ico4",
        "colab_type": "code",
        "colab": {}
      },
      "source": [
        "df2.columns = df2.columns.str.lower()"
      ],
      "execution_count": 0,
      "outputs": []
    },
    {
      "cell_type": "code",
      "metadata": {
        "id": "PCEXGJYlico8",
        "colab_type": "code",
        "colab": {}
      },
      "source": [
        "df1.columns = ['movie name', 'cast', 'mentions', 'total centrality', 'count', 'average centrality']"
      ],
      "execution_count": 0,
      "outputs": []
    },
    {
      "cell_type": "code",
      "metadata": {
        "id": "fDkrilTAico_",
        "colab_type": "code",
        "colab": {}
      },
      "source": [
        "df2.columns = [ 'movie name', 'cast', 'mentions', 'total centrality', 'count', 'average centrality']"
      ],
      "execution_count": 0,
      "outputs": []
    },
    {
      "cell_type": "code",
      "metadata": {
        "id": "tTpRHkBDicpD",
        "colab_type": "code",
        "colab": {}
      },
      "source": [
        "df1['name'] = df1['cast'] + \"_\" + df1['movie name']"
      ],
      "execution_count": 0,
      "outputs": []
    },
    {
      "cell_type": "code",
      "metadata": {
        "id": "AYkfb6ueicpF",
        "colab_type": "code",
        "colab": {}
      },
      "source": [
        "df2['name'] = df2['cast'] + \"_\" + df2['movie name']"
      ],
      "execution_count": 0,
      "outputs": []
    },
    {
      "cell_type": "code",
      "metadata": {
        "id": "rdHQ3DiIicpH",
        "colab_type": "code",
        "colab": {}
      },
      "source": [
        "df1['name'] = df1['name'].str.lower()"
      ],
      "execution_count": 0,
      "outputs": []
    },
    {
      "cell_type": "code",
      "metadata": {
        "id": "4DHjbNISicpJ",
        "colab_type": "code",
        "colab": {}
      },
      "source": [
        "df2['name'] = df2['name'].str.lower()"
      ],
      "execution_count": 0,
      "outputs": []
    },
    {
      "cell_type": "code",
      "metadata": {
        "id": "Uso7dAHSicpL",
        "colab_type": "code",
        "colab": {},
        "outputId": "26395627-fc7c-48a2-d169-41690dfe2da4"
      },
      "source": [
        "df1.head()"
      ],
      "execution_count": 0,
      "outputs": [
        {
          "output_type": "execute_result",
          "data": {
            "text/html": [
              "<div>\n",
              "<style scoped>\n",
              "    .dataframe tbody tr th:only-of-type {\n",
              "        vertical-align: middle;\n",
              "    }\n",
              "\n",
              "    .dataframe tbody tr th {\n",
              "        vertical-align: top;\n",
              "    }\n",
              "\n",
              "    .dataframe thead th {\n",
              "        text-align: right;\n",
              "    }\n",
              "</style>\n",
              "<table border=\"1\" class=\"dataframe\">\n",
              "  <thead>\n",
              "    <tr style=\"text-align: right;\">\n",
              "      <th></th>\n",
              "      <th>movie name</th>\n",
              "      <th>cast</th>\n",
              "      <th>mentions</th>\n",
              "      <th>total centrality</th>\n",
              "      <th>count</th>\n",
              "      <th>average centrality</th>\n",
              "      <th>name</th>\n",
              "    </tr>\n",
              "  </thead>\n",
              "  <tbody>\n",
              "    <tr>\n",
              "      <th>0</th>\n",
              "      <td>Aan Milo Sajna</td>\n",
              "      <td>woman</td>\n",
              "      <td>2.0</td>\n",
              "      <td>222.500000</td>\n",
              "      <td>12.0</td>\n",
              "      <td>18.541667</td>\n",
              "      <td>woman_aan milo sajna</td>\n",
              "    </tr>\n",
              "    <tr>\n",
              "      <th>1</th>\n",
              "      <td>Aan Milo Sajna</td>\n",
              "      <td>savitri</td>\n",
              "      <td>11.0</td>\n",
              "      <td>868.166667</td>\n",
              "      <td>131.0</td>\n",
              "      <td>6.627226</td>\n",
              "      <td>savitri_aan milo sajna</td>\n",
              "    </tr>\n",
              "    <tr>\n",
              "      <th>2</th>\n",
              "      <td>Aan Milo Sajna</td>\n",
              "      <td>deepali</td>\n",
              "      <td>4.0</td>\n",
              "      <td>0.000000</td>\n",
              "      <td>89.0</td>\n",
              "      <td>0.000000</td>\n",
              "      <td>deepali_aan milo sajna</td>\n",
              "    </tr>\n",
              "    <tr>\n",
              "      <th>3</th>\n",
              "      <td>Abhinetri</td>\n",
              "      <td>anjana</td>\n",
              "      <td>9.0</td>\n",
              "      <td>319.000000</td>\n",
              "      <td>79.0</td>\n",
              "      <td>4.037975</td>\n",
              "      <td>anjana_abhinetri</td>\n",
              "    </tr>\n",
              "    <tr>\n",
              "      <th>4</th>\n",
              "      <td>Aag Aur Shola</td>\n",
              "      <td>usha</td>\n",
              "      <td>6.0</td>\n",
              "      <td>48.000000</td>\n",
              "      <td>54.0</td>\n",
              "      <td>0.888889</td>\n",
              "      <td>usha_aag aur shola</td>\n",
              "    </tr>\n",
              "  </tbody>\n",
              "</table>\n",
              "</div>"
            ],
            "text/plain": [
              "       movie name     cast  mentions  total centrality  count  \\\n",
              "0  Aan Milo Sajna    woman       2.0        222.500000   12.0   \n",
              "1  Aan Milo Sajna  savitri      11.0        868.166667  131.0   \n",
              "2  Aan Milo Sajna  deepali       4.0          0.000000   89.0   \n",
              "3       Abhinetri   anjana       9.0        319.000000   79.0   \n",
              "4   Aag Aur Shola     usha       6.0         48.000000   54.0   \n",
              "\n",
              "   average centrality                    name  \n",
              "0           18.541667    woman_aan milo sajna  \n",
              "1            6.627226  savitri_aan milo sajna  \n",
              "2            0.000000  deepali_aan milo sajna  \n",
              "3            4.037975        anjana_abhinetri  \n",
              "4            0.888889      usha_aag aur shola  "
            ]
          },
          "metadata": {
            "tags": []
          },
          "execution_count": 26
        }
      ]
    },
    {
      "cell_type": "code",
      "metadata": {
        "id": "QKgE8sSlicpP",
        "colab_type": "code",
        "colab": {},
        "outputId": "bf723fed-8503-44aa-ce8f-b2d778fbabca"
      },
      "source": [
        "df2.head()"
      ],
      "execution_count": 0,
      "outputs": [
        {
          "output_type": "execute_result",
          "data": {
            "text/html": [
              "<div>\n",
              "<style scoped>\n",
              "    .dataframe tbody tr th:only-of-type {\n",
              "        vertical-align: middle;\n",
              "    }\n",
              "\n",
              "    .dataframe tbody tr th {\n",
              "        vertical-align: top;\n",
              "    }\n",
              "\n",
              "    .dataframe thead th {\n",
              "        text-align: right;\n",
              "    }\n",
              "</style>\n",
              "<table border=\"1\" class=\"dataframe\">\n",
              "  <thead>\n",
              "    <tr style=\"text-align: right;\">\n",
              "      <th></th>\n",
              "      <th>movie name</th>\n",
              "      <th>cast</th>\n",
              "      <th>mentions</th>\n",
              "      <th>total centrality</th>\n",
              "      <th>count</th>\n",
              "      <th>average centrality</th>\n",
              "      <th>name</th>\n",
              "    </tr>\n",
              "  </thead>\n",
              "  <tbody>\n",
              "    <tr>\n",
              "      <th>0</th>\n",
              "      <td>Aan Milo Sajna</td>\n",
              "      <td>anil</td>\n",
              "      <td>13.0</td>\n",
              "      <td>9219.200000</td>\n",
              "      <td>131.0</td>\n",
              "      <td>70.375573</td>\n",
              "      <td>anil_aan milo sajna</td>\n",
              "    </tr>\n",
              "    <tr>\n",
              "      <th>1</th>\n",
              "      <td>Bachpan</td>\n",
              "      <td>tom</td>\n",
              "      <td>11.0</td>\n",
              "      <td>29.000000</td>\n",
              "      <td>59.0</td>\n",
              "      <td>0.491525</td>\n",
              "      <td>tom_bachpan</td>\n",
              "    </tr>\n",
              "    <tr>\n",
              "      <th>2</th>\n",
              "      <td>Bachpan</td>\n",
              "      <td>father</td>\n",
              "      <td>5.0</td>\n",
              "      <td>469.333333</td>\n",
              "      <td>63.0</td>\n",
              "      <td>7.449735</td>\n",
              "      <td>father_bachpan</td>\n",
              "    </tr>\n",
              "    <tr>\n",
              "      <th>3</th>\n",
              "      <td>Bachpan</td>\n",
              "      <td>rahim</td>\n",
              "      <td>2.0</td>\n",
              "      <td>0.000000</td>\n",
              "      <td>29.0</td>\n",
              "      <td>0.000000</td>\n",
              "      <td>rahim_bachpan</td>\n",
              "    </tr>\n",
              "    <tr>\n",
              "      <th>4</th>\n",
              "      <td>Aag Aur Shola</td>\n",
              "      <td>nagesh</td>\n",
              "      <td>4.0</td>\n",
              "      <td>94.000000</td>\n",
              "      <td>38.0</td>\n",
              "      <td>2.473684</td>\n",
              "      <td>nagesh_aag aur shola</td>\n",
              "    </tr>\n",
              "  </tbody>\n",
              "</table>\n",
              "</div>"
            ],
            "text/plain": [
              "       movie name    cast  mentions  total centrality  count  \\\n",
              "0  Aan Milo Sajna    anil      13.0       9219.200000  131.0   \n",
              "1         Bachpan     tom      11.0         29.000000   59.0   \n",
              "2         Bachpan  father       5.0        469.333333   63.0   \n",
              "3         Bachpan   rahim       2.0          0.000000   29.0   \n",
              "4   Aag Aur Shola  nagesh       4.0         94.000000   38.0   \n",
              "\n",
              "   average centrality                  name  \n",
              "0           70.375573   anil_aan milo sajna  \n",
              "1            0.491525           tom_bachpan  \n",
              "2            7.449735        father_bachpan  \n",
              "3            0.000000         rahim_bachpan  \n",
              "4            2.473684  nagesh_aag aur shola  "
            ]
          },
          "metadata": {
            "tags": []
          },
          "execution_count": 27
        }
      ]
    },
    {
      "cell_type": "code",
      "metadata": {
        "id": "ESl8sBLKicpR",
        "colab_type": "code",
        "colab": {},
        "outputId": "ac039cdc-f753-4bb7-ee31-5383f32aaa23"
      },
      "source": [
        "df3 = df3.iloc[:, 0:3]\n",
        "df3.columns = ['name', 'gender', 'character']\n",
        "df3 = df3.dropna()\n",
        "df3['name'] = df3['name'].str.lower()\n",
        "df3.head()"
      ],
      "execution_count": 0,
      "outputs": [
        {
          "output_type": "execute_result",
          "data": {
            "text/html": [
              "<div>\n",
              "<style scoped>\n",
              "    .dataframe tbody tr th:only-of-type {\n",
              "        vertical-align: middle;\n",
              "    }\n",
              "\n",
              "    .dataframe tbody tr th {\n",
              "        vertical-align: top;\n",
              "    }\n",
              "\n",
              "    .dataframe thead th {\n",
              "        text-align: right;\n",
              "    }\n",
              "</style>\n",
              "<table border=\"1\" class=\"dataframe\">\n",
              "  <thead>\n",
              "    <tr style=\"text-align: right;\">\n",
              "      <th></th>\n",
              "      <th>name</th>\n",
              "      <th>gender</th>\n",
              "      <th>character</th>\n",
              "    </tr>\n",
              "  </thead>\n",
              "  <tbody>\n",
              "    <tr>\n",
              "      <th>6</th>\n",
              "      <td>father_bachpan</td>\n",
              "      <td>MALE</td>\n",
              "      <td>unhappilly</td>\n",
              "    </tr>\n",
              "    <tr>\n",
              "      <th>7</th>\n",
              "      <td>rahim_bachpan</td>\n",
              "      <td>MALE</td>\n",
              "      <td>father, father, father</td>\n",
              "    </tr>\n",
              "    <tr>\n",
              "      <th>8</th>\n",
              "      <td>kashi_bachpan</td>\n",
              "      <td>UNKNOWN</td>\n",
              "      <td>innocent</td>\n",
              "    </tr>\n",
              "    <tr>\n",
              "      <th>11</th>\n",
              "      <td>actor_bombay talkie</td>\n",
              "      <td>MALE</td>\n",
              "      <td>famous</td>\n",
              "    </tr>\n",
              "    <tr>\n",
              "      <th>12</th>\n",
              "      <td>seema_chetna</td>\n",
              "      <td>FEMALE</td>\n",
              "      <td>unrecognizable</td>\n",
              "    </tr>\n",
              "  </tbody>\n",
              "</table>\n",
              "</div>"
            ],
            "text/plain": [
              "                   name   gender               character\n",
              "6        father_bachpan     MALE              unhappilly\n",
              "7         rahim_bachpan     MALE  father, father, father\n",
              "8         kashi_bachpan  UNKNOWN                innocent\n",
              "11  actor_bombay talkie     MALE                  famous\n",
              "12         seema_chetna   FEMALE          unrecognizable"
            ]
          },
          "metadata": {
            "tags": []
          },
          "execution_count": 40
        }
      ]
    },
    {
      "cell_type": "code",
      "metadata": {
        "id": "lTz-q_bTicpT",
        "colab_type": "code",
        "colab": {},
        "outputId": "13c2edd1-368e-467a-96c9-e73847754763"
      },
      "source": [
        "df4 = df4.iloc[:, 0:3]\n",
        "df4.columns = ['name', 'gender', 'character']\n",
        "df4 = df3.dropna()\n",
        "df4['name'] = df4['name'].str.lower()\n",
        "df4.head()"
      ],
      "execution_count": 0,
      "outputs": [
        {
          "output_type": "execute_result",
          "data": {
            "text/html": [
              "<div>\n",
              "<style scoped>\n",
              "    .dataframe tbody tr th:only-of-type {\n",
              "        vertical-align: middle;\n",
              "    }\n",
              "\n",
              "    .dataframe tbody tr th {\n",
              "        vertical-align: top;\n",
              "    }\n",
              "\n",
              "    .dataframe thead th {\n",
              "        text-align: right;\n",
              "    }\n",
              "</style>\n",
              "<table border=\"1\" class=\"dataframe\">\n",
              "  <thead>\n",
              "    <tr style=\"text-align: right;\">\n",
              "      <th></th>\n",
              "      <th>name</th>\n",
              "      <th>gender</th>\n",
              "      <th>character</th>\n",
              "    </tr>\n",
              "  </thead>\n",
              "  <tbody>\n",
              "    <tr>\n",
              "      <th>6</th>\n",
              "      <td>father_bachpan</td>\n",
              "      <td>MALE</td>\n",
              "      <td>unhappilly</td>\n",
              "    </tr>\n",
              "    <tr>\n",
              "      <th>7</th>\n",
              "      <td>rahim_bachpan</td>\n",
              "      <td>MALE</td>\n",
              "      <td>father, father, father</td>\n",
              "    </tr>\n",
              "    <tr>\n",
              "      <th>8</th>\n",
              "      <td>kashi_bachpan</td>\n",
              "      <td>UNKNOWN</td>\n",
              "      <td>innocent</td>\n",
              "    </tr>\n",
              "    <tr>\n",
              "      <th>11</th>\n",
              "      <td>actor_bombay talkie</td>\n",
              "      <td>MALE</td>\n",
              "      <td>famous</td>\n",
              "    </tr>\n",
              "    <tr>\n",
              "      <th>12</th>\n",
              "      <td>seema_chetna</td>\n",
              "      <td>FEMALE</td>\n",
              "      <td>unrecognizable</td>\n",
              "    </tr>\n",
              "  </tbody>\n",
              "</table>\n",
              "</div>"
            ],
            "text/plain": [
              "                   name   gender               character\n",
              "6        father_bachpan     MALE              unhappilly\n",
              "7         rahim_bachpan     MALE  father, father, father\n",
              "8         kashi_bachpan  UNKNOWN                innocent\n",
              "11  actor_bombay talkie     MALE                  famous\n",
              "12         seema_chetna   FEMALE          unrecognizable"
            ]
          },
          "metadata": {
            "tags": []
          },
          "execution_count": 39
        }
      ]
    },
    {
      "cell_type": "code",
      "metadata": {
        "id": "U7HU9E02icpU",
        "colab_type": "code",
        "colab": {},
        "outputId": "f03494a4-ebc5-4ea3-fc4b-e815879e9527"
      },
      "source": [
        "result1 = pd.merge(df3, df1[['movie name', 'mentions', 'count', 'total centrality','average centrality', 'name']], on='name', how='right')\n",
        "result1.head()"
      ],
      "execution_count": 0,
      "outputs": [
        {
          "output_type": "execute_result",
          "data": {
            "text/html": [
              "<div>\n",
              "<style scoped>\n",
              "    .dataframe tbody tr th:only-of-type {\n",
              "        vertical-align: middle;\n",
              "    }\n",
              "\n",
              "    .dataframe tbody tr th {\n",
              "        vertical-align: top;\n",
              "    }\n",
              "\n",
              "    .dataframe thead th {\n",
              "        text-align: right;\n",
              "    }\n",
              "</style>\n",
              "<table border=\"1\" class=\"dataframe\">\n",
              "  <thead>\n",
              "    <tr style=\"text-align: right;\">\n",
              "      <th></th>\n",
              "      <th>name</th>\n",
              "      <th>gender</th>\n",
              "      <th>character</th>\n",
              "      <th>movie name</th>\n",
              "      <th>mentions</th>\n",
              "      <th>count</th>\n",
              "      <th>total centrality</th>\n",
              "      <th>average centrality</th>\n",
              "    </tr>\n",
              "  </thead>\n",
              "  <tbody>\n",
              "    <tr>\n",
              "      <th>0</th>\n",
              "      <td>seema_chetna</td>\n",
              "      <td>FEMALE</td>\n",
              "      <td>unrecognizable</td>\n",
              "      <td>Chetna</td>\n",
              "      <td>23.0</td>\n",
              "      <td>170.0</td>\n",
              "      <td>227.500000</td>\n",
              "      <td>1.338235</td>\n",
              "    </tr>\n",
              "    <tr>\n",
              "      <th>1</th>\n",
              "      <td>janki_geet</td>\n",
              "      <td>FEMALE</td>\n",
              "      <td>sister, sister, sister</td>\n",
              "      <td>Geet</td>\n",
              "      <td>7.0</td>\n",
              "      <td>56.0</td>\n",
              "      <td>220.166667</td>\n",
              "      <td>3.931548</td>\n",
              "    </tr>\n",
              "    <tr>\n",
              "      <th>2</th>\n",
              "      <td>deepa_jeevan mrityu</td>\n",
              "      <td>FEMALE</td>\n",
              "      <td>mother, mother, mother</td>\n",
              "      <td>Jeevan Mrityu</td>\n",
              "      <td>5.0</td>\n",
              "      <td>53.0</td>\n",
              "      <td>27.000000</td>\n",
              "      <td>0.509434</td>\n",
              "    </tr>\n",
              "    <tr>\n",
              "      <th>3</th>\n",
              "      <td>poonam_kati patang</td>\n",
              "      <td>FEMALE</td>\n",
              "      <td>real</td>\n",
              "      <td>Kati Patang</td>\n",
              "      <td>21.0</td>\n",
              "      <td>177.0</td>\n",
              "      <td>685.699553</td>\n",
              "      <td>3.874009</td>\n",
              "    </tr>\n",
              "    <tr>\n",
              "      <th>4</th>\n",
              "      <td>radha_khilona</td>\n",
              "      <td>FEMALE</td>\n",
              "      <td>young</td>\n",
              "      <td>Khilona</td>\n",
              "      <td>11.0</td>\n",
              "      <td>78.0</td>\n",
              "      <td>118.500000</td>\n",
              "      <td>1.519231</td>\n",
              "    </tr>\n",
              "  </tbody>\n",
              "</table>\n",
              "</div>"
            ],
            "text/plain": [
              "                  name  gender               character     movie name  \\\n",
              "0         seema_chetna  FEMALE          unrecognizable         Chetna   \n",
              "1           janki_geet  FEMALE  sister, sister, sister           Geet   \n",
              "2  deepa_jeevan mrityu  FEMALE  mother, mother, mother  Jeevan Mrityu   \n",
              "3   poonam_kati patang  FEMALE                    real    Kati Patang   \n",
              "4        radha_khilona  FEMALE                   young        Khilona   \n",
              "\n",
              "   mentions  count  total centrality  average centrality  \n",
              "0      23.0  170.0        227.500000            1.338235  \n",
              "1       7.0   56.0        220.166667            3.931548  \n",
              "2       5.0   53.0         27.000000            0.509434  \n",
              "3      21.0  177.0        685.699553            3.874009  \n",
              "4      11.0   78.0        118.500000            1.519231  "
            ]
          },
          "metadata": {
            "tags": []
          },
          "execution_count": 42
        }
      ]
    },
    {
      "cell_type": "code",
      "metadata": {
        "id": "B_xoO1yxicpW",
        "colab_type": "code",
        "colab": {},
        "outputId": "06c6cf60-4fe2-4143-fdc9-ea0a0d8aedd9"
      },
      "source": [
        "result2 = pd.merge(df4, df2[['movie name', 'mentions', 'count', 'total centrality','average centrality', 'name']], on='name', how='right')\n",
        "result2.head()"
      ],
      "execution_count": 0,
      "outputs": [
        {
          "output_type": "execute_result",
          "data": {
            "text/html": [
              "<div>\n",
              "<style scoped>\n",
              "    .dataframe tbody tr th:only-of-type {\n",
              "        vertical-align: middle;\n",
              "    }\n",
              "\n",
              "    .dataframe tbody tr th {\n",
              "        vertical-align: top;\n",
              "    }\n",
              "\n",
              "    .dataframe thead th {\n",
              "        text-align: right;\n",
              "    }\n",
              "</style>\n",
              "<table border=\"1\" class=\"dataframe\">\n",
              "  <thead>\n",
              "    <tr style=\"text-align: right;\">\n",
              "      <th></th>\n",
              "      <th>name</th>\n",
              "      <th>gender</th>\n",
              "      <th>character</th>\n",
              "      <th>movie name</th>\n",
              "      <th>mentions</th>\n",
              "      <th>count</th>\n",
              "      <th>total centrality</th>\n",
              "      <th>average centrality</th>\n",
              "    </tr>\n",
              "  </thead>\n",
              "  <tbody>\n",
              "    <tr>\n",
              "      <th>0</th>\n",
              "      <td>father_bachpan</td>\n",
              "      <td>MALE</td>\n",
              "      <td>unhappilly</td>\n",
              "      <td>Bachpan</td>\n",
              "      <td>5.0</td>\n",
              "      <td>63.0</td>\n",
              "      <td>469.333333</td>\n",
              "      <td>7.449735</td>\n",
              "    </tr>\n",
              "    <tr>\n",
              "      <th>1</th>\n",
              "      <td>rahim_bachpan</td>\n",
              "      <td>MALE</td>\n",
              "      <td>father, father, father</td>\n",
              "      <td>Bachpan</td>\n",
              "      <td>2.0</td>\n",
              "      <td>29.0</td>\n",
              "      <td>0.000000</td>\n",
              "      <td>0.000000</td>\n",
              "    </tr>\n",
              "    <tr>\n",
              "      <th>2</th>\n",
              "      <td>actor_bombay talkie</td>\n",
              "      <td>MALE</td>\n",
              "      <td>famous</td>\n",
              "      <td>Bombay Talkie</td>\n",
              "      <td>1.0</td>\n",
              "      <td>4.0</td>\n",
              "      <td>15.000000</td>\n",
              "      <td>3.750000</td>\n",
              "    </tr>\n",
              "    <tr>\n",
              "      <th>3</th>\n",
              "      <td>man_chetna</td>\n",
              "      <td>MALE</td>\n",
              "      <td>shy,  young</td>\n",
              "      <td>Chetna</td>\n",
              "      <td>1.0</td>\n",
              "      <td>25.0</td>\n",
              "      <td>368.166667</td>\n",
              "      <td>14.726667</td>\n",
              "    </tr>\n",
              "    <tr>\n",
              "      <th>4</th>\n",
              "      <td>anil_chetna</td>\n",
              "      <td>MALE</td>\n",
              "      <td>father, father, father</td>\n",
              "      <td>Chetna</td>\n",
              "      <td>18.0</td>\n",
              "      <td>180.0</td>\n",
              "      <td>526.000000</td>\n",
              "      <td>2.922222</td>\n",
              "    </tr>\n",
              "  </tbody>\n",
              "</table>\n",
              "</div>"
            ],
            "text/plain": [
              "                  name gender               character     movie name  \\\n",
              "0       father_bachpan   MALE              unhappilly        Bachpan   \n",
              "1        rahim_bachpan   MALE  father, father, father        Bachpan   \n",
              "2  actor_bombay talkie   MALE                  famous  Bombay Talkie   \n",
              "3           man_chetna   MALE             shy,  young         Chetna   \n",
              "4          anil_chetna   MALE  father, father, father         Chetna   \n",
              "\n",
              "   mentions  count  total centrality  average centrality  \n",
              "0       5.0   63.0        469.333333            7.449735  \n",
              "1       2.0   29.0          0.000000            0.000000  \n",
              "2       1.0    4.0         15.000000            3.750000  \n",
              "3       1.0   25.0        368.166667           14.726667  \n",
              "4      18.0  180.0        526.000000            2.922222  "
            ]
          },
          "metadata": {
            "tags": []
          },
          "execution_count": 43
        }
      ]
    },
    {
      "cell_type": "code",
      "metadata": {
        "id": "lqnfZzX-icpY",
        "colab_type": "code",
        "colab": {}
      },
      "source": [
        "df5 = pd.concat([result1, result2])"
      ],
      "execution_count": 0,
      "outputs": []
    },
    {
      "cell_type": "code",
      "metadata": {
        "id": "M5Q6l3W9icpZ",
        "colab_type": "code",
        "colab": {},
        "outputId": "c807794d-4edd-4adb-c6b0-9708bcb58f3e"
      },
      "source": [
        "df5.head()"
      ],
      "execution_count": 0,
      "outputs": [
        {
          "output_type": "execute_result",
          "data": {
            "text/html": [
              "<div>\n",
              "<style scoped>\n",
              "    .dataframe tbody tr th:only-of-type {\n",
              "        vertical-align: middle;\n",
              "    }\n",
              "\n",
              "    .dataframe tbody tr th {\n",
              "        vertical-align: top;\n",
              "    }\n",
              "\n",
              "    .dataframe thead th {\n",
              "        text-align: right;\n",
              "    }\n",
              "</style>\n",
              "<table border=\"1\" class=\"dataframe\">\n",
              "  <thead>\n",
              "    <tr style=\"text-align: right;\">\n",
              "      <th></th>\n",
              "      <th>name</th>\n",
              "      <th>gender</th>\n",
              "      <th>character</th>\n",
              "      <th>movie name</th>\n",
              "      <th>mentions</th>\n",
              "      <th>count</th>\n",
              "      <th>total centrality</th>\n",
              "      <th>average centrality</th>\n",
              "    </tr>\n",
              "  </thead>\n",
              "  <tbody>\n",
              "    <tr>\n",
              "      <th>0</th>\n",
              "      <td>seema_chetna</td>\n",
              "      <td>FEMALE</td>\n",
              "      <td>unrecognizable</td>\n",
              "      <td>Chetna</td>\n",
              "      <td>23.0</td>\n",
              "      <td>170.0</td>\n",
              "      <td>227.500000</td>\n",
              "      <td>1.338235</td>\n",
              "    </tr>\n",
              "    <tr>\n",
              "      <th>1</th>\n",
              "      <td>janki_geet</td>\n",
              "      <td>FEMALE</td>\n",
              "      <td>sister, sister, sister</td>\n",
              "      <td>Geet</td>\n",
              "      <td>7.0</td>\n",
              "      <td>56.0</td>\n",
              "      <td>220.166667</td>\n",
              "      <td>3.931548</td>\n",
              "    </tr>\n",
              "    <tr>\n",
              "      <th>2</th>\n",
              "      <td>deepa_jeevan mrityu</td>\n",
              "      <td>FEMALE</td>\n",
              "      <td>mother, mother, mother</td>\n",
              "      <td>Jeevan Mrityu</td>\n",
              "      <td>5.0</td>\n",
              "      <td>53.0</td>\n",
              "      <td>27.000000</td>\n",
              "      <td>0.509434</td>\n",
              "    </tr>\n",
              "    <tr>\n",
              "      <th>3</th>\n",
              "      <td>poonam_kati patang</td>\n",
              "      <td>FEMALE</td>\n",
              "      <td>real</td>\n",
              "      <td>Kati Patang</td>\n",
              "      <td>21.0</td>\n",
              "      <td>177.0</td>\n",
              "      <td>685.699553</td>\n",
              "      <td>3.874009</td>\n",
              "    </tr>\n",
              "    <tr>\n",
              "      <th>4</th>\n",
              "      <td>radha_khilona</td>\n",
              "      <td>FEMALE</td>\n",
              "      <td>young</td>\n",
              "      <td>Khilona</td>\n",
              "      <td>11.0</td>\n",
              "      <td>78.0</td>\n",
              "      <td>118.500000</td>\n",
              "      <td>1.519231</td>\n",
              "    </tr>\n",
              "  </tbody>\n",
              "</table>\n",
              "</div>"
            ],
            "text/plain": [
              "                  name  gender               character     movie name  \\\n",
              "0         seema_chetna  FEMALE          unrecognizable         Chetna   \n",
              "1           janki_geet  FEMALE  sister, sister, sister           Geet   \n",
              "2  deepa_jeevan mrityu  FEMALE  mother, mother, mother  Jeevan Mrityu   \n",
              "3   poonam_kati patang  FEMALE                    real    Kati Patang   \n",
              "4        radha_khilona  FEMALE                   young        Khilona   \n",
              "\n",
              "   mentions  count  total centrality  average centrality  \n",
              "0      23.0  170.0        227.500000            1.338235  \n",
              "1       7.0   56.0        220.166667            3.931548  \n",
              "2       5.0   53.0         27.000000            0.509434  \n",
              "3      21.0  177.0        685.699553            3.874009  \n",
              "4      11.0   78.0        118.500000            1.519231  "
            ]
          },
          "metadata": {
            "tags": []
          },
          "execution_count": 46
        }
      ]
    },
    {
      "cell_type": "code",
      "metadata": {
        "id": "2qg1d7qVicpb",
        "colab_type": "code",
        "colab": {},
        "outputId": "338fdf6c-131f-4e8a-e878-3e0887a3b7f1"
      },
      "source": [
        "df5.tail()"
      ],
      "execution_count": 0,
      "outputs": [
        {
          "output_type": "execute_result",
          "data": {
            "text/html": [
              "<div>\n",
              "<style scoped>\n",
              "    .dataframe tbody tr th:only-of-type {\n",
              "        vertical-align: middle;\n",
              "    }\n",
              "\n",
              "    .dataframe tbody tr th {\n",
              "        vertical-align: top;\n",
              "    }\n",
              "\n",
              "    .dataframe thead th {\n",
              "        text-align: right;\n",
              "    }\n",
              "</style>\n",
              "<table border=\"1\" class=\"dataframe\">\n",
              "  <thead>\n",
              "    <tr style=\"text-align: right;\">\n",
              "      <th></th>\n",
              "      <th>name</th>\n",
              "      <th>gender</th>\n",
              "      <th>character</th>\n",
              "      <th>movie name</th>\n",
              "      <th>mentions</th>\n",
              "      <th>count</th>\n",
              "      <th>total centrality</th>\n",
              "      <th>average centrality</th>\n",
              "    </tr>\n",
              "  </thead>\n",
              "  <tbody>\n",
              "    <tr>\n",
              "      <th>9350</th>\n",
              "      <td>vikramaditya_jumbo</td>\n",
              "      <td>NaN</td>\n",
              "      <td>NaN</td>\n",
              "      <td>Jumbo</td>\n",
              "      <td>11.0</td>\n",
              "      <td>89.0</td>\n",
              "      <td>288.000000</td>\n",
              "      <td>3.235955</td>\n",
              "    </tr>\n",
              "    <tr>\n",
              "      <th>9351</th>\n",
              "      <td>father_jumbo</td>\n",
              "      <td>NaN</td>\n",
              "      <td>NaN</td>\n",
              "      <td>Jumbo</td>\n",
              "      <td>12.0</td>\n",
              "      <td>114.0</td>\n",
              "      <td>517.666667</td>\n",
              "      <td>4.540936</td>\n",
              "    </tr>\n",
              "    <tr>\n",
              "      <th>9352</th>\n",
              "      <td>akshay_jumbo</td>\n",
              "      <td>NaN</td>\n",
              "      <td>NaN</td>\n",
              "      <td>Jumbo</td>\n",
              "      <td>2.0</td>\n",
              "      <td>47.0</td>\n",
              "      <td>429.500000</td>\n",
              "      <td>9.138298</td>\n",
              "    </tr>\n",
              "    <tr>\n",
              "      <th>9353</th>\n",
              "      <td>bakhtavar_jumbo</td>\n",
              "      <td>NaN</td>\n",
              "      <td>NaN</td>\n",
              "      <td>Jumbo</td>\n",
              "      <td>6.0</td>\n",
              "      <td>47.0</td>\n",
              "      <td>267.666667</td>\n",
              "      <td>5.695035</td>\n",
              "    </tr>\n",
              "    <tr>\n",
              "      <th>9354</th>\n",
              "      <td>prince_jumbo</td>\n",
              "      <td>NaN</td>\n",
              "      <td>NaN</td>\n",
              "      <td>Jumbo</td>\n",
              "      <td>5.0</td>\n",
              "      <td>52.0</td>\n",
              "      <td>95.666667</td>\n",
              "      <td>1.839744</td>\n",
              "    </tr>\n",
              "  </tbody>\n",
              "</table>\n",
              "</div>"
            ],
            "text/plain": [
              "                    name gender character movie name  mentions  count  \\\n",
              "9350  vikramaditya_jumbo    NaN       NaN      Jumbo      11.0   89.0   \n",
              "9351        father_jumbo    NaN       NaN      Jumbo      12.0  114.0   \n",
              "9352        akshay_jumbo    NaN       NaN      Jumbo       2.0   47.0   \n",
              "9353     bakhtavar_jumbo    NaN       NaN      Jumbo       6.0   47.0   \n",
              "9354        prince_jumbo    NaN       NaN      Jumbo       5.0   52.0   \n",
              "\n",
              "      total centrality  average centrality  \n",
              "9350        288.000000            3.235955  \n",
              "9351        517.666667            4.540936  \n",
              "9352        429.500000            9.138298  \n",
              "9353        267.666667            5.695035  \n",
              "9354         95.666667            1.839744  "
            ]
          },
          "metadata": {
            "tags": []
          },
          "execution_count": 73
        }
      ]
    },
    {
      "cell_type": "markdown",
      "metadata": {
        "id": "K_lfy4BNjpSW",
        "colab_type": "text"
      },
      "source": [
        "Tail() function gives out last 5 values"
      ]
    },
    {
      "cell_type": "code",
      "metadata": {
        "id": "sZnupLHeicpe",
        "colab_type": "code",
        "colab": {}
      },
      "source": [
        "df5 = df5.dropna()"
      ],
      "execution_count": 0,
      "outputs": []
    },
    {
      "cell_type": "code",
      "metadata": {
        "id": "qWzeFHW0icpf",
        "colab_type": "code",
        "colab": {},
        "outputId": "85a74486-ef8d-41de-d979-87d5da521fa8"
      },
      "source": [
        "df5.info()"
      ],
      "execution_count": 0,
      "outputs": [
        {
          "output_type": "stream",
          "text": [
            "<class 'pandas.core.frame.DataFrame'>\n",
            "Int64Index: 4449 entries, 0 to 2759\n",
            "Data columns (total 8 columns):\n",
            "name                  4449 non-null object\n",
            "gender                4449 non-null object\n",
            "character             4449 non-null object\n",
            "movie name            4449 non-null object\n",
            "mentions              4449 non-null float64\n",
            "count                 4449 non-null float64\n",
            "total centrality      4449 non-null float64\n",
            "average centrality    4449 non-null float64\n",
            "dtypes: float64(4), object(4)\n",
            "memory usage: 312.8+ KB\n"
          ],
          "name": "stdout"
        }
      ]
    },
    {
      "cell_type": "code",
      "metadata": {
        "id": "TgX3fbCEicph",
        "colab_type": "code",
        "colab": {},
        "outputId": "374e175d-3c35-4aa8-f041-ef79e1fb62af"
      },
      "source": [
        "df5.tail()"
      ],
      "execution_count": 0,
      "outputs": [
        {
          "output_type": "execute_result",
          "data": {
            "text/html": [
              "<div>\n",
              "<style scoped>\n",
              "    .dataframe tbody tr th:only-of-type {\n",
              "        vertical-align: middle;\n",
              "    }\n",
              "\n",
              "    .dataframe tbody tr th {\n",
              "        vertical-align: top;\n",
              "    }\n",
              "\n",
              "    .dataframe thead th {\n",
              "        text-align: right;\n",
              "    }\n",
              "</style>\n",
              "<table border=\"1\" class=\"dataframe\">\n",
              "  <thead>\n",
              "    <tr style=\"text-align: right;\">\n",
              "      <th></th>\n",
              "      <th>name</th>\n",
              "      <th>gender</th>\n",
              "      <th>character</th>\n",
              "      <th>movie name</th>\n",
              "      <th>mentions</th>\n",
              "      <th>count</th>\n",
              "      <th>total centrality</th>\n",
              "      <th>average centrality</th>\n",
              "    </tr>\n",
              "  </thead>\n",
              "  <tbody>\n",
              "    <tr>\n",
              "      <th>2755</th>\n",
              "      <td>man_sarhad paar</td>\n",
              "      <td>MALE</td>\n",
              "      <td>bad</td>\n",
              "      <td>Sarhad Paar</td>\n",
              "      <td>1.0</td>\n",
              "      <td>4.0</td>\n",
              "      <td>21.666667</td>\n",
              "      <td>5.416667</td>\n",
              "    </tr>\n",
              "    <tr>\n",
              "      <th>2756</th>\n",
              "      <td>ravi_sarhad paar</td>\n",
              "      <td>MALE</td>\n",
              "      <td>uncle</td>\n",
              "      <td>Sarhad Paar</td>\n",
              "      <td>6.0</td>\n",
              "      <td>53.0</td>\n",
              "      <td>317.233333</td>\n",
              "      <td>5.985535</td>\n",
              "    </tr>\n",
              "    <tr>\n",
              "      <th>2757</th>\n",
              "      <td>hari_say salaam india</td>\n",
              "      <td>MALE</td>\n",
              "      <td>son</td>\n",
              "      <td>Say Salaam India</td>\n",
              "      <td>9.0</td>\n",
              "      <td>141.0</td>\n",
              "      <td>116.000000</td>\n",
              "      <td>0.822695</td>\n",
              "    </tr>\n",
              "    <tr>\n",
              "      <th>2758</th>\n",
              "      <td>nandu_amar prem</td>\n",
              "      <td>MALE</td>\n",
              "      <td>father, son, child, son, father, son, child, s...</td>\n",
              "      <td>Amar Prem</td>\n",
              "      <td>42.0</td>\n",
              "      <td>368.0</td>\n",
              "      <td>4585.526190</td>\n",
              "      <td>12.460669</td>\n",
              "    </tr>\n",
              "    <tr>\n",
              "      <th>2759</th>\n",
              "      <td>man_amar prem</td>\n",
              "      <td>MALE</td>\n",
              "      <td>widowed</td>\n",
              "      <td>Amar Prem</td>\n",
              "      <td>1.0</td>\n",
              "      <td>17.0</td>\n",
              "      <td>102.000000</td>\n",
              "      <td>6.000000</td>\n",
              "    </tr>\n",
              "  </tbody>\n",
              "</table>\n",
              "</div>"
            ],
            "text/plain": [
              "                       name gender  \\\n",
              "2755        man_sarhad paar   MALE   \n",
              "2756       ravi_sarhad paar   MALE   \n",
              "2757  hari_say salaam india   MALE   \n",
              "2758        nandu_amar prem   MALE   \n",
              "2759          man_amar prem   MALE   \n",
              "\n",
              "                                              character        movie name  \\\n",
              "2755                                                bad       Sarhad Paar   \n",
              "2756                                              uncle       Sarhad Paar   \n",
              "2757                                                son  Say Salaam India   \n",
              "2758  father, son, child, son, father, son, child, s...         Amar Prem   \n",
              "2759                                            widowed         Amar Prem   \n",
              "\n",
              "      mentions  count  total centrality  average centrality  \n",
              "2755       1.0    4.0         21.666667            5.416667  \n",
              "2756       6.0   53.0        317.233333            5.985535  \n",
              "2757       9.0  141.0        116.000000            0.822695  \n",
              "2758      42.0  368.0       4585.526190           12.460669  \n",
              "2759       1.0   17.0        102.000000            6.000000  "
            ]
          },
          "metadata": {
            "tags": []
          },
          "execution_count": 78
        }
      ]
    },
    {
      "cell_type": "code",
      "metadata": {
        "id": "2QbIrd-Nicpj",
        "colab_type": "code",
        "colab": {}
      },
      "source": [
        "df5.to_csv(path_or_buf='./processed/third.csv', index=True)"
      ],
      "execution_count": 0,
      "outputs": []
    },
    {
      "cell_type": "code",
      "metadata": {
        "id": "KvnhFtOGicpk",
        "colab_type": "code",
        "colab": {}
      },
      "source": [
        ""
      ],
      "execution_count": 0,
      "outputs": []
    }
  ]
}